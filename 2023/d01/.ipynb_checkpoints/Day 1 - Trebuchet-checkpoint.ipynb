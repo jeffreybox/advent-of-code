{
 "cells": [
  {
   "cell_type": "markdown",
   "id": "44f913a6",
   "metadata": {},
   "source": [
    "# AOC 2023: Day 1 - Trebuchet?!\n",
    "\n",
    "* I created a terrible iteration method through a dictionary. It works, but it's clunky. \n",
    "* I need to learn regex. Day 1 part 2 is the toughest [day 1] that I can remember... O_o"
   ]
  },
  {
   "cell_type": "code",
   "execution_count": 1,
   "id": "166ad0fd",
   "metadata": {},
   "outputs": [
    {
     "data": {
      "text/plain": [
       "'/Users/jeffreybox/Documents/jb documents/analytics/github/advent-of-code/2023/aoc2023/d01'"
      ]
     },
     "execution_count": 1,
     "metadata": {},
     "output_type": "execute_result"
    }
   ],
   "source": [
    "%pwd"
   ]
  },
  {
   "cell_type": "markdown",
   "id": "e641e912",
   "metadata": {},
   "source": [
    "### DATA"
   ]
  },
  {
   "cell_type": "code",
   "execution_count": 2,
   "id": "9f62e170",
   "metadata": {},
   "outputs": [],
   "source": [
    "path = 'data/aoc2023d01.txt'"
   ]
  },
  {
   "cell_type": "code",
   "execution_count": 3,
   "id": "8da5120d",
   "metadata": {},
   "outputs": [
    {
     "name": "stdout",
     "output_type": "stream",
     "text": [
      "length = 1000\n",
      "test output: ['five3onelxjninenine45', 'six9mnfjmtsf2kfmznkxntninesevenrpmfjfpgsk', '9vkrmbpnine5two5cbktwo6', 'one1bdr6', 'ksvctznmffourtwovbb9four5five']\n"
     ]
    }
   ],
   "source": [
    "with open(path) as f:\n",
    "    document = [line.rstrip() for line in f]\n",
    "\n",
    "print(f'length = {len(document)}')\n",
    "print(f'test output: {document[0:5]}')"
   ]
  },
  {
   "cell_type": "markdown",
   "id": "dfd21887",
   "metadata": {},
   "source": [
    "### PART 1 - CALIBRATION\n",
    "find the first and last digit in each line, concat into a number, and sum the list of numbers"
   ]
  },
  {
   "cell_type": "code",
   "execution_count": null,
   "id": "bc15cf0c",
   "metadata": {},
   "outputs": [],
   "source": [
    "def calibrate(d):\n",
    "    cls = []\n",
    "    for txt in d:\n",
    "        for char in txt:\n",
    "            if char.isdigit():\n",
    "                first = char\n",
    "                break\n",
    "        for char in txt[::-1]:\n",
    "            if char.isdigit():\n",
    "                last = char\n",
    "                break\n",
    "        cls.append(int(first+last))\n",
    "    return sum(cls)"
   ]
  },
  {
   "cell_type": "code",
   "execution_count": null,
   "id": "d9055afd",
   "metadata": {},
   "outputs": [],
   "source": [
    "calibrate(document)"
   ]
  },
  {
   "cell_type": "markdown",
   "id": "debc05c2",
   "metadata": {},
   "source": [
    "### PART 2 - RECALIBRATION\n",
    "Do the same thing, but spelled numbers now count"
   ]
  },
  {
   "cell_type": "code",
   "execution_count": null,
   "id": "43114ccf",
   "metadata": {},
   "outputs": [],
   "source": [
    "from operator import itemgetter"
   ]
  },
  {
   "cell_type": "code",
   "execution_count": null,
   "id": "f76802d6",
   "metadata": {},
   "outputs": [],
   "source": [
    "numdict = {\n",
    "    'one':'1',\n",
    "    'two':'2',\n",
    "    'three':'3',\n",
    "    'four':'4',\n",
    "    'five':'5',\n",
    "    'six':'6',\n",
    "    'seven':'7',\n",
    "    'eight':'8',\n",
    "    'nine':'9'\n",
    "}"
   ]
  },
  {
   "cell_type": "code",
   "execution_count": null,
   "id": "6d787260",
   "metadata": {},
   "outputs": [],
   "source": [
    "keys = list(numdict.keys())\n",
    "values = list(numdict.values())"
   ]
  },
  {
   "cell_type": "code",
   "execution_count": null,
   "id": "1be4a894",
   "metadata": {},
   "outputs": [],
   "source": [
    "def recalibrate(d):\n",
    "    rcls = []\n",
    "    index = 0 # for testing only\n",
    "    for txt in d:\n",
    "        #print(f'index = {index}')\n",
    "        #print(txt)\n",
    "        ls = []\n",
    "        for k in keys:\n",
    "            temptxt = txt # create this copy to use find() method for duplicate instances of text\n",
    "            while(temptxt.find(k)!=-1):\n",
    "                ls.append([int(numdict[k]), temptxt.find(k)])\n",
    "                temptxt=temptxt.replace(k,\"*\"*len(k),1)\n",
    "        for v in values:\n",
    "            temptxt = txt #  again, create this copy to use find() method for duplicate instances numbers\n",
    "            while(temptxt.find(v)!=-1):\n",
    "                ls.append ([int(v), temptxt.find(v)])\n",
    "                temptxt=temptxt.replace(v,\"*\"*len(v),1)\n",
    "        #print(sorted(ls, key = lambda x: int(x[1])))\n",
    "        minimum = str(min(ls,key=itemgetter(1))[0])\n",
    "        maximum = str(max(ls,key=itemgetter(1))[0])\n",
    "        number = int(minimum+maximum)\n",
    "        #print(f'min = {minimum}, max = {maximum}, number = {number} \\n')\n",
    "        rcls.append(int(minimum+maximum))\n",
    "        index+=1\n",
    "    return sum(rcls)"
   ]
  },
  {
   "cell_type": "code",
   "execution_count": null,
   "id": "ce57128b",
   "metadata": {},
   "outputs": [],
   "source": [
    "recalibrate(document)"
   ]
  },
  {
   "cell_type": "code",
   "execution_count": null,
   "id": "f7950b11",
   "metadata": {},
   "outputs": [],
   "source": []
  }
 ],
 "metadata": {
  "kernelspec": {
   "display_name": "Python 3 (ipykernel)",
   "language": "python",
   "name": "python3"
  },
  "language_info": {
   "codemirror_mode": {
    "name": "ipython",
    "version": 3
   },
   "file_extension": ".py",
   "mimetype": "text/x-python",
   "name": "python",
   "nbconvert_exporter": "python",
   "pygments_lexer": "ipython3",
   "version": "3.11.4"
  }
 },
 "nbformat": 4,
 "nbformat_minor": 5
}
