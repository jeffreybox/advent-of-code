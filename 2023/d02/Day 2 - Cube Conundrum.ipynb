{
 "cells": [
  {
   "cell_type": "markdown",
   "id": "44f913a6",
   "metadata": {},
   "source": [
    "# AOC 2023: Day 2 - Cube Conundrum\n",
    "\n",
    "* A solution with pandas! Don't judge, assholes!\n",
    "* I wish I would have implemented a try/except module. I assumed all 3 colors were picked in every round. The assumption worked..."
   ]
  },
  {
   "cell_type": "code",
   "execution_count": 1,
   "id": "166ad0fd",
   "metadata": {},
   "outputs": [
    {
     "data": {
      "text/plain": [
       "'/Users/jeffreybox/Documents/jb documents/analytics/github/advent-of-code/2023/aoc2023/d02'"
      ]
     },
     "execution_count": 1,
     "metadata": {},
     "output_type": "execute_result"
    }
   ],
   "source": [
    "%pwd"
   ]
  },
  {
   "cell_type": "code",
   "execution_count": 2,
   "id": "8de5ff17",
   "metadata": {},
   "outputs": [],
   "source": [
    "import pandas as pd\n",
    "import numpy as np"
   ]
  },
  {
   "cell_type": "markdown",
   "id": "e641e912",
   "metadata": {},
   "source": [
    "### DATA"
   ]
  },
  {
   "cell_type": "code",
   "execution_count": 3,
   "id": "9f62e170",
   "metadata": {},
   "outputs": [],
   "source": [
    "path = 'data/aoc2023d02.txt'"
   ]
  },
  {
   "cell_type": "code",
   "execution_count": 4,
   "id": "8da5120d",
   "metadata": {},
   "outputs": [
    {
     "name": "stdout",
     "output_type": "stream",
     "text": [
      "length = 100\n",
      "test output... Game 1: 1 red, 10 blue, 5 green; 11 blue, 6 green; 6 green; 1 green, 1 red, 12 blue; 3 blue; 3 blue, 4 green, 1 red\n"
     ]
    }
   ],
   "source": [
    "with open(path) as f:\n",
    "    games = [line.rstrip() for line in f]\n",
    "\n",
    "print(f'length = {len(games)}')\n",
    "print(f'test output... {games[0]}')"
   ]
  },
  {
   "cell_type": "markdown",
   "id": "dfd21887",
   "metadata": {},
   "source": [
    "### PART 1\n",
    "Which games would have been possible if the bag had been loaded with only 12 red cubes, 13 green cubes, and 14 blue cubes? Sum the IDs of those games"
   ]
  },
  {
   "cell_type": "code",
   "execution_count": 23,
   "id": "46a09f3b",
   "metadata": {},
   "outputs": [],
   "source": [
    "x = 1\n",
    "gamelist = []\n",
    "for g in games:\n",
    "    ls = []\n",
    "    gameround = g.replace(\";\",\",\").split(\": \")[1].split(\", \") #format the game line\n",
    "    for pull in gameround:\n",
    "        ls.append(pull.split(\" \"))\n",
    "    #print(ls)\n",
    "    df = pd.DataFrame(ls, columns = ['num', 'color']) #turn the string into a dataframe\n",
    "    df[['num']] = df[['num']].apply(pd.to_numeric)\n",
    "    groupdf = df.groupby(['color'])['num'].max() # get the max of each color\n",
    "    criteria = [groupdf.loc['blue']<=14, groupdf.loc['green']<=13, groupdf.loc['red']<=12]\n",
    "    groupdf = groupdf.reset_index()\n",
    "    groupdf['meetscriteria'] = criteria # compare to the criteria 12 red, 13 green, 14 blue\n",
    "    #print(groupdf) \n",
    "    if all(groupdf['meetscriteria'].tolist()):\n",
    "        gamelist.append(x) # add the game number to a list\n",
    "    x+=1\n",
    "    #print(gamelist)"
   ]
  },
  {
   "cell_type": "code",
   "execution_count": 24,
   "id": "056d5263",
   "metadata": {},
   "outputs": [
    {
     "data": {
      "text/plain": [
       "2563"
      ]
     },
     "execution_count": 24,
     "metadata": {},
     "output_type": "execute_result"
    }
   ],
   "source": [
    "sum(gamelist)"
   ]
  },
  {
   "cell_type": "markdown",
   "id": "debc05c2",
   "metadata": {},
   "source": [
    "### PART 2\n",
    "These instructions are bullshit, but this time find the max of each color in the game, multiply them together, and then add them up?"
   ]
  },
  {
   "cell_type": "code",
   "execution_count": 32,
   "id": "73b5a52e",
   "metadata": {},
   "outputs": [],
   "source": [
    "x = 1\n",
    "powerlist = []\n",
    "for g in games:\n",
    "    ls = []\n",
    "    gameround = g.replace(\";\",\",\").split(\": \")[1].split(\", \") #format the game line\n",
    "    for pull in gameround:\n",
    "        ls.append(pull.split(\" \"))\n",
    "    #print(ls)\n",
    "    df = pd.DataFrame(ls, columns = ['num', 'color']) #turn the string into a dataframe\n",
    "    df[['num']] = df[['num']].apply(pd.to_numeric)\n",
    "    groupdf = df.groupby(['color'])['num'].max() # get the max of each color\n",
    "    grouplist = groupdf.reset_index().values.tolist()\n",
    "    powerlist.append(grouplist[0][1]*grouplist[1][1]*grouplist[2][1]) # multiply the max values and add to a list"
   ]
  },
  {
   "cell_type": "code",
   "execution_count": 33,
   "id": "428473f5",
   "metadata": {},
   "outputs": [
    {
     "data": {
      "text/plain": [
       "70768"
      ]
     },
     "execution_count": 33,
     "metadata": {},
     "output_type": "execute_result"
    }
   ],
   "source": [
    "sum(powerlist)"
   ]
  }
 ],
 "metadata": {
  "kernelspec": {
   "display_name": "Python 3 (ipykernel)",
   "language": "python",
   "name": "python3"
  },
  "language_info": {
   "codemirror_mode": {
    "name": "ipython",
    "version": 3
   },
   "file_extension": ".py",
   "mimetype": "text/x-python",
   "name": "python",
   "nbconvert_exporter": "python",
   "pygments_lexer": "ipython3",
   "version": "3.11.4"
  }
 },
 "nbformat": 4,
 "nbformat_minor": 5
}
