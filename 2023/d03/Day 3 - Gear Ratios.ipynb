{
 "cells": [
  {
   "cell_type": "markdown",
   "id": "44f913a6",
   "metadata": {},
   "source": [
    "# AOC 2022: Day 3: Gear Ratios"
   ]
  },
  {
   "cell_type": "code",
   "execution_count": 2,
   "id": "e4e631f0",
   "metadata": {},
   "outputs": [
    {
     "data": {
      "text/plain": [
       "'/Users/jeffreybox/Documents/jb documents/analytics/github/advent-of-code/2023/aoc2023/d03'"
      ]
     },
     "execution_count": 2,
     "metadata": {},
     "output_type": "execute_result"
    }
   ],
   "source": [
    "%pwd"
   ]
  },
  {
   "cell_type": "code",
   "execution_count": 3,
   "id": "166ad0fd",
   "metadata": {},
   "outputs": [],
   "source": [
    "# dependencies"
   ]
  },
  {
   "cell_type": "markdown",
   "id": "e641e912",
   "metadata": {},
   "source": [
    "### DATA"
   ]
  },
  {
   "cell_type": "code",
   "execution_count": 6,
   "id": "9f62e170",
   "metadata": {},
   "outputs": [],
   "source": [
    "path = 'data/aoc2023d03.txt'"
   ]
  },
  {
   "cell_type": "code",
   "execution_count": 7,
   "id": "8da5120d",
   "metadata": {},
   "outputs": [
    {
     "name": "stdout",
     "output_type": "stream",
     "text": [
      "length = 140\n",
      "test output... ['...317..........214.....................................751.................................630...479..205....41.993............416.........', '...*....813........%....572........%...629.154......518....*....365..................-.......*.......#.....................422...........661', '269.......*...58...........=......264.....*..........*......937.-...........235...303.........848..............195.....154*.........144.-...']\n"
     ]
    }
   ],
   "source": [
    "with open(path) as f:\n",
    "    parts = [line.rstrip() for line in f]\n",
    "\n",
    "print(f'length = {len(parts)}')\n",
    "print(f'test output... {parts[:3]}')"
   ]
  },
  {
   "cell_type": "markdown",
   "id": "dfd21887",
   "metadata": {},
   "source": [
    "### PART 1"
   ]
  },
  {
   "cell_type": "code",
   "execution_count": null,
   "id": "bc15cf0c",
   "metadata": {},
   "outputs": [],
   "source": []
  },
  {
   "cell_type": "markdown",
   "id": "debc05c2",
   "metadata": {},
   "source": [
    "### PART 2"
   ]
  },
  {
   "cell_type": "code",
   "execution_count": null,
   "id": "f76802d6",
   "metadata": {},
   "outputs": [],
   "source": []
  }
 ],
 "metadata": {
  "kernelspec": {
   "display_name": "Python 3 (ipykernel)",
   "language": "python",
   "name": "python3"
  },
  "language_info": {
   "codemirror_mode": {
    "name": "ipython",
    "version": 3
   },
   "file_extension": ".py",
   "mimetype": "text/x-python",
   "name": "python",
   "nbconvert_exporter": "python",
   "pygments_lexer": "ipython3",
   "version": "3.11.4"
  }
 },
 "nbformat": 4,
 "nbformat_minor": 5
}
