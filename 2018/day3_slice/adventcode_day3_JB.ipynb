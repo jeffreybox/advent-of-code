{
 "cells": [
  {
   "cell_type": "markdown",
   "metadata": {},
   "source": [
    "# Advent Code Day 3\n",
    "\n"
   ]
  },
  {
   "cell_type": "code",
   "execution_count": 34,
   "metadata": {},
   "outputs": [],
   "source": [
    "import re\n",
    "import numpy as np\n",
    "import pandas as pd\n",
    "from matplotlib import pyplot\n",
    "from shapely.geometry import box\n",
    "import itertools"
   ]
  },
  {
   "cell_type": "code",
   "execution_count": 2,
   "metadata": {},
   "outputs": [
    {
     "data": {
      "text/html": [
       "<div>\n",
       "<style scoped>\n",
       "    .dataframe tbody tr th:only-of-type {\n",
       "        vertical-align: middle;\n",
       "    }\n",
       "\n",
       "    .dataframe tbody tr th {\n",
       "        vertical-align: top;\n",
       "    }\n",
       "\n",
       "    .dataframe thead th {\n",
       "        text-align: right;\n",
       "    }\n",
       "</style>\n",
       "<table border=\"1\" class=\"dataframe\">\n",
       "  <thead>\n",
       "    <tr style=\"text-align: right;\">\n",
       "      <th></th>\n",
       "      <th>0</th>\n",
       "    </tr>\n",
       "  </thead>\n",
       "  <tbody>\n",
       "    <tr>\n",
       "      <th>0</th>\n",
       "      <td>#1 @ 520,746: 4x20</td>\n",
       "    </tr>\n",
       "    <tr>\n",
       "      <th>1</th>\n",
       "      <td>#2 @ 274,680: 19x26</td>\n",
       "    </tr>\n",
       "    <tr>\n",
       "      <th>2</th>\n",
       "      <td>#3 @ 928,402: 16x24</td>\n",
       "    </tr>\n",
       "    <tr>\n",
       "      <th>3</th>\n",
       "      <td>#4 @ 338,969: 27x15</td>\n",
       "    </tr>\n",
       "    <tr>\n",
       "      <th>4</th>\n",
       "      <td>#5 @ 48,306: 21x16</td>\n",
       "    </tr>\n",
       "  </tbody>\n",
       "</table>\n",
       "</div>"
      ],
      "text/plain": [
       "                     0\n",
       "0   #1 @ 520,746: 4x20\n",
       "1  #2 @ 274,680: 19x26\n",
       "2  #3 @ 928,402: 16x24\n",
       "3  #4 @ 338,969: 27x15\n",
       "4   #5 @ 48,306: 21x16"
      ]
     },
     "execution_count": 2,
     "metadata": {},
     "output_type": "execute_result"
    }
   ],
   "source": [
    "df = pd.read_csv('slice.csv', header=None)\n",
    "df.head()"
   ]
  },
  {
   "cell_type": "code",
   "execution_count": 3,
   "metadata": {},
   "outputs": [
    {
     "data": {
      "text/html": [
       "<div>\n",
       "<style scoped>\n",
       "    .dataframe tbody tr th:only-of-type {\n",
       "        vertical-align: middle;\n",
       "    }\n",
       "\n",
       "    .dataframe tbody tr th {\n",
       "        vertical-align: top;\n",
       "    }\n",
       "\n",
       "    .dataframe thead th {\n",
       "        text-align: right;\n",
       "    }\n",
       "</style>\n",
       "<table border=\"1\" class=\"dataframe\">\n",
       "  <thead>\n",
       "    <tr style=\"text-align: right;\">\n",
       "      <th></th>\n",
       "      <th>0</th>\n",
       "      <th>num</th>\n",
       "      <th>@</th>\n",
       "      <th>coord</th>\n",
       "      <th>x</th>\n",
       "      <th>y</th>\n",
       "      <th>dim</th>\n",
       "      <th>len</th>\n",
       "      <th>height</th>\n",
       "    </tr>\n",
       "  </thead>\n",
       "  <tbody>\n",
       "    <tr>\n",
       "      <th>0</th>\n",
       "      <td>#1 @ 520,746: 4x20</td>\n",
       "      <td>#1</td>\n",
       "      <td>@</td>\n",
       "      <td>520,746:</td>\n",
       "      <td>520</td>\n",
       "      <td>746:</td>\n",
       "      <td>4x20</td>\n",
       "      <td>4</td>\n",
       "      <td>20</td>\n",
       "    </tr>\n",
       "    <tr>\n",
       "      <th>1</th>\n",
       "      <td>#2 @ 274,680: 19x26</td>\n",
       "      <td>#2</td>\n",
       "      <td>@</td>\n",
       "      <td>274,680:</td>\n",
       "      <td>274</td>\n",
       "      <td>680:</td>\n",
       "      <td>19x26</td>\n",
       "      <td>19</td>\n",
       "      <td>26</td>\n",
       "    </tr>\n",
       "    <tr>\n",
       "      <th>2</th>\n",
       "      <td>#3 @ 928,402: 16x24</td>\n",
       "      <td>#3</td>\n",
       "      <td>@</td>\n",
       "      <td>928,402:</td>\n",
       "      <td>928</td>\n",
       "      <td>402:</td>\n",
       "      <td>16x24</td>\n",
       "      <td>16</td>\n",
       "      <td>24</td>\n",
       "    </tr>\n",
       "    <tr>\n",
       "      <th>3</th>\n",
       "      <td>#4 @ 338,969: 27x15</td>\n",
       "      <td>#4</td>\n",
       "      <td>@</td>\n",
       "      <td>338,969:</td>\n",
       "      <td>338</td>\n",
       "      <td>969:</td>\n",
       "      <td>27x15</td>\n",
       "      <td>27</td>\n",
       "      <td>15</td>\n",
       "    </tr>\n",
       "    <tr>\n",
       "      <th>4</th>\n",
       "      <td>#5 @ 48,306: 21x16</td>\n",
       "      <td>#5</td>\n",
       "      <td>@</td>\n",
       "      <td>48,306:</td>\n",
       "      <td>48</td>\n",
       "      <td>306:</td>\n",
       "      <td>21x16</td>\n",
       "      <td>21</td>\n",
       "      <td>16</td>\n",
       "    </tr>\n",
       "  </tbody>\n",
       "</table>\n",
       "</div>"
      ],
      "text/plain": [
       "                     0 num  @     coord    x     y    dim  len  height\n",
       "0   #1 @ 520,746: 4x20  #1  @  520,746:  520  746:   4x20    4      20\n",
       "1  #2 @ 274,680: 19x26  #2  @  274,680:  274  680:  19x26   19      26\n",
       "2  #3 @ 928,402: 16x24  #3  @  928,402:  928  402:  16x24   16      24\n",
       "3  #4 @ 338,969: 27x15  #4  @  338,969:  338  969:  27x15   27      15\n",
       "4   #5 @ 48,306: 21x16  #5  @   48,306:   48  306:  21x16   21      16"
      ]
     },
     "execution_count": 3,
     "metadata": {},
     "output_type": "execute_result"
    }
   ],
   "source": [
    "#df = df.rename(columns={'0':'values'})\n",
    "df['num'] = df[0].str.split(' ').str.get(0)\n",
    "df['@'] = df[0].str.split(' ').str.get(1)\n",
    "df['coord'] = df[0].str.split(' ').str.get(2)\n",
    "df['x'] = df['coord'].str.split(',').str.get(0).astype(int)\n",
    "df['y'] = df['coord'].str.split(',').str.get(1)\n",
    "df['dim'] = df[0].str.split(' ').str.get(3)\n",
    "df['len'] = df['dim'].str.split('x').str.get(0).astype(int)\n",
    "df['height'] = df['dim'].str.split('x').str.get(1).astype(int)\n",
    "df.head()"
   ]
  },
  {
   "cell_type": "code",
   "execution_count": 4,
   "metadata": {},
   "outputs": [
    {
     "data": {
      "text/html": [
       "<div>\n",
       "<style scoped>\n",
       "    .dataframe tbody tr th:only-of-type {\n",
       "        vertical-align: middle;\n",
       "    }\n",
       "\n",
       "    .dataframe tbody tr th {\n",
       "        vertical-align: top;\n",
       "    }\n",
       "\n",
       "    .dataframe thead th {\n",
       "        text-align: right;\n",
       "    }\n",
       "</style>\n",
       "<table border=\"1\" class=\"dataframe\">\n",
       "  <thead>\n",
       "    <tr style=\"text-align: right;\">\n",
       "      <th></th>\n",
       "      <th>0</th>\n",
       "      <th>x</th>\n",
       "      <th>y</th>\n",
       "      <th>len</th>\n",
       "      <th>height</th>\n",
       "      <th>x_max</th>\n",
       "      <th>y_max</th>\n",
       "    </tr>\n",
       "  </thead>\n",
       "  <tbody>\n",
       "    <tr>\n",
       "      <th>0</th>\n",
       "      <td>#1 @ 520,746: 4x20</td>\n",
       "      <td>520</td>\n",
       "      <td>746</td>\n",
       "      <td>4</td>\n",
       "      <td>20</td>\n",
       "      <td>524</td>\n",
       "      <td>766</td>\n",
       "    </tr>\n",
       "    <tr>\n",
       "      <th>1</th>\n",
       "      <td>#2 @ 274,680: 19x26</td>\n",
       "      <td>274</td>\n",
       "      <td>680</td>\n",
       "      <td>19</td>\n",
       "      <td>26</td>\n",
       "      <td>293</td>\n",
       "      <td>706</td>\n",
       "    </tr>\n",
       "    <tr>\n",
       "      <th>2</th>\n",
       "      <td>#3 @ 928,402: 16x24</td>\n",
       "      <td>928</td>\n",
       "      <td>402</td>\n",
       "      <td>16</td>\n",
       "      <td>24</td>\n",
       "      <td>944</td>\n",
       "      <td>426</td>\n",
       "    </tr>\n",
       "    <tr>\n",
       "      <th>3</th>\n",
       "      <td>#4 @ 338,969: 27x15</td>\n",
       "      <td>338</td>\n",
       "      <td>969</td>\n",
       "      <td>27</td>\n",
       "      <td>15</td>\n",
       "      <td>365</td>\n",
       "      <td>984</td>\n",
       "    </tr>\n",
       "    <tr>\n",
       "      <th>4</th>\n",
       "      <td>#5 @ 48,306: 21x16</td>\n",
       "      <td>48</td>\n",
       "      <td>306</td>\n",
       "      <td>21</td>\n",
       "      <td>16</td>\n",
       "      <td>69</td>\n",
       "      <td>322</td>\n",
       "    </tr>\n",
       "  </tbody>\n",
       "</table>\n",
       "</div>"
      ],
      "text/plain": [
       "                     0    x    y  len  height  x_max  y_max\n",
       "0   #1 @ 520,746: 4x20  520  746    4      20    524    766\n",
       "1  #2 @ 274,680: 19x26  274  680   19      26    293    706\n",
       "2  #3 @ 928,402: 16x24  928  402   16      24    944    426\n",
       "3  #4 @ 338,969: 27x15  338  969   27      15    365    984\n",
       "4   #5 @ 48,306: 21x16   48  306   21      16     69    322"
      ]
     },
     "execution_count": 4,
     "metadata": {},
     "output_type": "execute_result"
    }
   ],
   "source": [
    "df_clean = df\n",
    "df_clean = df_clean.drop(columns=['num','@','coord','dim'])\n",
    "df_clean['y'] = df_clean['y'].str.replace(':','').astype(int)\n",
    "df_clean['x_max'] = df_clean['x'] + df_clean['len']\n",
    "df_clean['y_max'] = df_clean['y'] + df_clean['height']\n",
    "df_clean.head()"
   ]
  },
  {
   "cell_type": "markdown",
   "metadata": {},
   "source": [
    "## Experimenting with Shapely\n",
    "### box(minx, miny, maxx, maxy)"
   ]
  },
  {
   "cell_type": "code",
   "execution_count": 5,
   "metadata": {},
   "outputs": [
    {
     "data": {
      "image/svg+xml": [
       "<svg xmlns=\"http://www.w3.org/2000/svg\" xmlns:xlink=\"http://www.w3.org/1999/xlink\" width=\"100.0\" height=\"100.0\" viewBox=\"-0.04 -0.04 1.08 1.08\" preserveAspectRatio=\"xMinYMin meet\"><g transform=\"matrix(1,0,0,-1,0,1.0)\"><path fill-rule=\"evenodd\" fill=\"#66cc99\" stroke=\"#555555\" stroke-width=\"0.0216\" opacity=\"0.6\" d=\"M 1.0,0.0 L 1.0,1.0 L 0.0,1.0 L 0.0,0.0 L 1.0,0.0 z\" /></g></svg>"
      ],
      "text/plain": [
       "<shapely.geometry.polygon.Polygon at 0x1105af6a0>"
      ]
     },
     "execution_count": 5,
     "metadata": {},
     "output_type": "execute_result"
    }
   ],
   "source": [
    "b1 = box(0.0, 0.0, 1.0, 1.0)\n",
    "b1"
   ]
  },
  {
   "cell_type": "code",
   "execution_count": 6,
   "metadata": {},
   "outputs": [
    {
     "data": {
      "text/plain": [
       "[(1.0, 0.0), (1.0, 1.0), (0.0, 1.0), (0.0, 0.0), (1.0, 0.0)]"
      ]
     },
     "execution_count": 6,
     "metadata": {},
     "output_type": "execute_result"
    }
   ],
   "source": [
    "list(b1.exterior.coords)"
   ]
  },
  {
   "cell_type": "code",
   "execution_count": 7,
   "metadata": {},
   "outputs": [
    {
     "data": {
      "image/svg+xml": [
       "<svg xmlns=\"http://www.w3.org/2000/svg\" xmlns:xlink=\"http://www.w3.org/1999/xlink\" width=\"100.0\" height=\"100.0\" viewBox=\"-0.04 -0.04 1.08 1.08\" preserveAspectRatio=\"xMinYMin meet\"><g transform=\"matrix(1,0,0,-1,0,1.0)\"><path fill-rule=\"evenodd\" fill=\"#66cc99\" stroke=\"#555555\" stroke-width=\"0.0216\" opacity=\"0.6\" d=\"M 1.0,0.0 L 1.0,1.0 L 0.0,1.0 L 0.0,0.0 L 1.0,0.0 z\" /></g></svg>"
      ],
      "text/plain": [
       "<shapely.geometry.polygon.Polygon at 0x110616c18>"
      ]
     },
     "execution_count": 7,
     "metadata": {},
     "output_type": "execute_result"
    }
   ],
   "source": [
    "\n",
    "b2 = box(0.0, 0.0, 1.0, 1.0)\n",
    "b2"
   ]
  },
  {
   "cell_type": "code",
   "execution_count": 8,
   "metadata": {},
   "outputs": [
    {
     "data": {
      "text/plain": [
       "[(1.0, 0.0), (1.0, 1.0), (0.0, 1.0), (0.0, 0.0), (1.0, 0.0)]"
      ]
     },
     "execution_count": 8,
     "metadata": {},
     "output_type": "execute_result"
    }
   ],
   "source": [
    "list(b2.exterior.coords)"
   ]
  },
  {
   "cell_type": "code",
   "execution_count": 9,
   "metadata": {},
   "outputs": [
    {
     "data": {
      "text/plain": [
       "True"
      ]
     },
     "execution_count": 9,
     "metadata": {},
     "output_type": "execute_result"
    }
   ],
   "source": [
    "b1.intersects(b2)"
   ]
  },
  {
   "cell_type": "code",
   "execution_count": 10,
   "metadata": {},
   "outputs": [
    {
     "data": {
      "image/svg+xml": [
       "<svg xmlns=\"http://www.w3.org/2000/svg\" xmlns:xlink=\"http://www.w3.org/1999/xlink\" width=\"265.68\" height=\"241.68000000000006\" viewBox=\"510.16 514.16 265.68 241.68000000000006\" preserveAspectRatio=\"xMinYMin meet\"><g transform=\"matrix(1,0,0,-1,0,1270.0)\"><path fill-rule=\"evenodd\" fill=\"#66cc99\" stroke=\"#555555\" stroke-width=\"2.0\" opacity=\"0.6\" d=\"M 766.0,524.0 L 766.0,746.0 L 520.0,746.0 L 520.0,524.0 L 766.0,524.0 z\" /></g></svg>"
      ],
      "text/plain": [
       "<shapely.geometry.polygon.Polygon at 0x110706a58>"
      ]
     },
     "execution_count": 10,
     "metadata": {},
     "output_type": "execute_result"
    }
   ],
   "source": [
    "b3 = box(df_clean.iloc[0,1],df_clean.iloc[0,5], df_clean.iloc[0,6], df_clean.iloc[0,2])\n",
    "b3"
   ]
  },
  {
   "cell_type": "code",
   "execution_count": 11,
   "metadata": {},
   "outputs": [
    {
     "data": {
      "text/plain": [
       "[(766.0, 524.0),\n",
       " (766.0, 746.0),\n",
       " (520.0, 746.0),\n",
       " (520.0, 524.0),\n",
       " (766.0, 524.0)]"
      ]
     },
     "execution_count": 11,
     "metadata": {},
     "output_type": "execute_result"
    }
   ],
   "source": [
    "list(b3.exterior.coords)"
   ]
  },
  {
   "cell_type": "markdown",
   "metadata": {},
   "source": [
    "# Using Shapely on the DF"
   ]
  },
  {
   "cell_type": "code",
   "execution_count": 12,
   "metadata": {},
   "outputs": [
    {
     "data": {
      "text/plain": [
       "1407"
      ]
     },
     "execution_count": 12,
     "metadata": {},
     "output_type": "execute_result"
    }
   ],
   "source": [
    "len(df_clean)"
   ]
  },
  {
   "cell_type": "code",
   "execution_count": 13,
   "metadata": {},
   "outputs": [
    {
     "data": {
      "text/plain": [
       "1407"
      ]
     },
     "execution_count": 13,
     "metadata": {},
     "output_type": "execute_result"
    }
   ],
   "source": [
    "# create a place to store all of the boxes\n",
    "i = 0\n",
    "box_list = []\n",
    "while i < 1407:\n",
    "    b = box(df_clean.iloc[i,1],df_clean.iloc[i,5], df_clean.iloc[i,6], df_clean.iloc[i,2])\n",
    "    box_list.append(b)\n",
    "    i += 1\n",
    "len(box_list)"
   ]
  },
  {
   "cell_type": "code",
   "execution_count": 14,
   "metadata": {},
   "outputs": [],
   "source": [
    "# another test of logic\n",
    "# logic = box_list[0].intersects(box_list[4])\n",
    "# logic"
   ]
  },
  {
   "cell_type": "code",
   "execution_count": 15,
   "metadata": {},
   "outputs": [],
   "source": [
    "# test_list = [1, 2, 3, 4, 5]\n",
    "# test_list2 = test_list[1:]\n",
    "# test_list2"
   ]
  },
  {
   "cell_type": "code",
   "execution_count": 33,
   "metadata": {},
   "outputs": [
    {
     "name": "stdout",
     "output_type": "stream",
     "text": [
      "989121\n",
      "678386\n"
     ]
    }
   ],
   "source": [
    "# creating a place to store all of the results\n",
    "intersect_list = []\n",
    "for a, b in itertools.combinations(box_list, 2):\n",
    "    test = a.intersects(b)\n",
    "    intersect_list.append(test)\n",
    "    \n",
    "print(len(intersect_list))\n",
    "print(sum(intersect_list)-1407)"
   ]
  },
  {
   "cell_type": "code",
   "execution_count": 27,
   "metadata": {},
   "outputs": [
    {
     "name": "stdout",
     "output_type": "stream",
     "text": [
      "989121\n"
     ]
    }
   ],
   "source": [
    "# # checking length of intersect_list against arithmetic sequence\n",
    "# lower = 0\n",
    "# upper = 1407\n",
    "# total = sum(range(lower, upper))\n",
    "# print(total)\n",
    "# print(intersect_list[0:10])"
   ]
  }
 ],
 "metadata": {
  "kernelspec": {
   "display_name": "Python 3 (ipykernel)",
   "language": "python",
   "name": "python3"
  },
  "language_info": {
   "codemirror_mode": {
    "name": "ipython",
    "version": 3
   },
   "file_extension": ".py",
   "mimetype": "text/x-python",
   "name": "python",
   "nbconvert_exporter": "python",
   "pygments_lexer": "ipython3",
   "version": "3.10.5"
  }
 },
 "nbformat": 4,
 "nbformat_minor": 2
}
