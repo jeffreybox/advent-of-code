{
 "cells": [
  {
   "cell_type": "markdown",
   "metadata": {},
   "source": [
    "# Advent Code: DAY 2\n",
    "\n",
    "## Part I\n",
    "\n",
    " - Destination reached. Current Year: 1518. Current Location: North Pole Utility Closet 83N10\n",
    " - Exactly two of any letter and then separately counting those with exactly three of any letter\n",
    " - You can multiply those two counts together to get a rudimentary checksum and compare it to what your device predicts"
   ]
  },
  {
   "cell_type": "markdown",
   "metadata": {},
   "source": [
    "## Example\n",
    "\n",
    "* abcdef contains no letters that appear exactly two or three times.  \n",
    "* bababc contains two a and three b, so it counts for both x, y\n",
    "* abbcde contains two b, but no letter appears exactly three times. x\n",
    "* abcccd contains three c, but no letter appears exactly two times. y\n",
    "* aabcdd contains two a and two d, but it only counts once. x\n",
    "* abcdee contains two e. x\n",
    "* ababab contains three a and three b, but it only counts once. y\n",
    "* checksum = 4 * 3 = 12"
   ]
  },
  {
   "cell_type": "code",
   "execution_count": 63,
   "metadata": {},
   "outputs": [],
   "source": [
    "# Dependencies\n",
    "import pandas as pd\n",
    "import numpy as np\n",
    "from collections import Counter\n",
    "from fuzzywuzzy import fuzz\n",
    "from fuzzywuzzy import process"
   ]
  },
  {
   "cell_type": "code",
   "execution_count": 6,
   "metadata": {},
   "outputs": [
    {
     "data": {
      "text/html": [
       "<div>\n",
       "<style scoped>\n",
       "    .dataframe tbody tr th:only-of-type {\n",
       "        vertical-align: middle;\n",
       "    }\n",
       "\n",
       "    .dataframe tbody tr th {\n",
       "        vertical-align: top;\n",
       "    }\n",
       "\n",
       "    .dataframe thead th {\n",
       "        text-align: right;\n",
       "    }\n",
       "</style>\n",
       "<table border=\"1\" class=\"dataframe\">\n",
       "  <thead>\n",
       "    <tr style=\"text-align: right;\">\n",
       "      <th></th>\n",
       "      <th>id</th>\n",
       "    </tr>\n",
       "  </thead>\n",
       "  <tbody>\n",
       "    <tr>\n",
       "      <th>0</th>\n",
       "      <td>umdryebvlapkozostecnihjexg</td>\n",
       "    </tr>\n",
       "    <tr>\n",
       "      <th>1</th>\n",
       "      <td>amdryebalapkozfstwcnrhjqxg</td>\n",
       "    </tr>\n",
       "    <tr>\n",
       "      <th>2</th>\n",
       "      <td>umdcyebvlapaozfstwcnihjqgg</td>\n",
       "    </tr>\n",
       "    <tr>\n",
       "      <th>3</th>\n",
       "      <td>ymdryrbvlapkozfstwcuihjqxg</td>\n",
       "    </tr>\n",
       "    <tr>\n",
       "      <th>4</th>\n",
       "      <td>umdrsebvlapkozxstwcnihjqig</td>\n",
       "    </tr>\n",
       "  </tbody>\n",
       "</table>\n",
       "</div>"
      ],
      "text/plain": [
       "                           id\n",
       "0  umdryebvlapkozostecnihjexg\n",
       "1  amdryebalapkozfstwcnrhjqxg\n",
       "2  umdcyebvlapaozfstwcnihjqgg\n",
       "3  ymdryrbvlapkozfstwcuihjqxg\n",
       "4  umdrsebvlapkozxstwcnihjqig"
      ]
     },
     "execution_count": 6,
     "metadata": {},
     "output_type": "execute_result"
    }
   ],
   "source": [
    "# Read CSV\n",
    "filepath = 'ac_day2_boxids.csv'\n",
    "df = pd.read_csv(filepath, header=None)\n",
    "df = df.rename(columns={0:'id'})\n",
    "df.head()"
   ]
  },
  {
   "cell_type": "code",
   "execution_count": 47,
   "metadata": {},
   "outputs": [
    {
     "name": "stdout",
     "output_type": "stream",
     "text": [
      "[1, 1, 1, 1, 1, 3, 1, 1, 1, 1, 1, 1, 2, 1, 1, 1, 1, 1, 1, 1, 1, 1, 1]\n",
      "twos: 1\n",
      "threes: 1\n",
      "250\n"
     ]
    }
   ],
   "source": [
    "# testing the solution on one instance\n",
    "counter = Counter(df.iloc[0,0])\n",
    "converter = pd.DataFrame.from_dict(counter, orient='index')\n",
    "c_list = converter[0].tolist()\n",
    "print(c_list)\n",
    "\n",
    "twos = c_list.count(2)\n",
    "threes = c_list.count(3)\n",
    "\n",
    "print(f'twos: {twos}')\n",
    "print(f'threes: {threes}')\n",
    "print(len(df))"
   ]
  },
  {
   "cell_type": "code",
   "execution_count": 51,
   "metadata": {},
   "outputs": [
    {
     "name": "stdout",
     "output_type": "stream",
     "text": [
      "twos: 248\n",
      "threes: 23\n"
     ]
    }
   ],
   "source": [
    "# calculating the values for the entire list of ids\n",
    "twos = 0\n",
    "threes = 0\n",
    "x = 0\n",
    "\n",
    "while x < len(df):\n",
    "    counter = Counter(df.iloc[x,0])\n",
    "    converter = pd.DataFrame.from_dict(counter, orient='index')\n",
    "    c_list = converter[0].tolist()\n",
    "    if c_list.count(2) > 0:\n",
    "        twos += 1\n",
    "    if c_list.count(3) > 0:\n",
    "        threes += 1\n",
    "    x += 1\n",
    "    \n",
    "print(f'twos: {twos}')\n",
    "print(f'threes: {threes}')"
   ]
  },
  {
   "cell_type": "code",
   "execution_count": 52,
   "metadata": {},
   "outputs": [
    {
     "name": "stdout",
     "output_type": "stream",
     "text": [
      "5704\n"
     ]
    }
   ],
   "source": [
    "# Checksum solution\n",
    "checksum = twos * threes\n",
    "print(checksum)"
   ]
  },
  {
   "cell_type": "markdown",
   "metadata": {},
   "source": [
    "## Part II\n",
    "\n",
    "What letters are common between the two correct box IDs? (In the example above, this is found by removing the differing character from either ID, producing fgij.)"
   ]
  },
  {
   "cell_type": "code",
   "execution_count": 99,
   "metadata": {},
   "outputs": [
    {
     "data": {
      "text/plain": [
       "26"
      ]
     },
     "execution_count": 99,
     "metadata": {},
     "output_type": "execute_result"
    }
   ],
   "source": [
    "# Length of string\n",
    "splitstr = [x for x in df.iloc[0,0]]\n",
    "len(splitstr)"
   ]
  },
  {
   "cell_type": "code",
   "execution_count": 67,
   "metadata": {},
   "outputs": [
    {
     "data": {
      "text/plain": [
       "92"
      ]
     },
     "execution_count": 67,
     "metadata": {},
     "output_type": "execute_result"
    }
   ],
   "source": [
    "# Testing fuzzywuzzy\n",
    "fuzz.ratio(\"atlantabraves\", \"atlantabrbves\")"
   ]
  },
  {
   "cell_type": "code",
   "execution_count": 84,
   "metadata": {},
   "outputs": [
    {
     "name": "stdout",
     "output_type": "stream",
     "text": [
      "62500\n",
      "62500\n"
     ]
    },
    {
     "data": {
      "text/html": [
       "<div>\n",
       "<style scoped>\n",
       "    .dataframe tbody tr th:only-of-type {\n",
       "        vertical-align: middle;\n",
       "    }\n",
       "\n",
       "    .dataframe tbody tr th {\n",
       "        vertical-align: top;\n",
       "    }\n",
       "\n",
       "    .dataframe thead th {\n",
       "        text-align: right;\n",
       "    }\n",
       "</style>\n",
       "<table border=\"1\" class=\"dataframe\">\n",
       "  <thead>\n",
       "    <tr style=\"text-align: right;\">\n",
       "      <th></th>\n",
       "      <th>0</th>\n",
       "      <th>1</th>\n",
       "      <th>2</th>\n",
       "    </tr>\n",
       "  </thead>\n",
       "  <tbody>\n",
       "    <tr>\n",
       "      <th>0</th>\n",
       "      <td>umdryebvlapkozostecnihjexg</td>\n",
       "      <td>umdryebvlapkozostecnihjexg</td>\n",
       "      <td>100</td>\n",
       "    </tr>\n",
       "    <tr>\n",
       "      <th>19829</th>\n",
       "      <td>umdryebveapkozfstwcnthjqgg</td>\n",
       "      <td>umdryebveapkozfstwcnthjqgg</td>\n",
       "      <td>100</td>\n",
       "    </tr>\n",
       "    <tr>\n",
       "      <th>23092</th>\n",
       "      <td>umdryesvnapkozestwcnihjqxg</td>\n",
       "      <td>umdryesvnapkozestwcnihjqxg</td>\n",
       "      <td>100</td>\n",
       "    </tr>\n",
       "    <tr>\n",
       "      <th>22841</th>\n",
       "      <td>umdryebvmapkozfstichihjqxg</td>\n",
       "      <td>umdryebvmapkozfstichihjqxg</td>\n",
       "      <td>100</td>\n",
       "    </tr>\n",
       "    <tr>\n",
       "      <th>22590</th>\n",
       "      <td>umdryebvrapkozfstmcndhjqxg</td>\n",
       "      <td>umdryebvrapkozfstmcndhjqxg</td>\n",
       "      <td>100</td>\n",
       "    </tr>\n",
       "    <tr>\n",
       "      <th>22339</th>\n",
       "      <td>umdrnebvlkpkozfstwcnihjnxg</td>\n",
       "      <td>umdrnebvlkpkozfstwcnihjnxg</td>\n",
       "      <td>100</td>\n",
       "    </tr>\n",
       "    <tr>\n",
       "      <th>22088</th>\n",
       "      <td>gmkryebvlapkozfstwcnihjmxg</td>\n",
       "      <td>gmkryebvlapkozfstwcnihjmxg</td>\n",
       "      <td>100</td>\n",
       "    </tr>\n",
       "    <tr>\n",
       "      <th>21837</th>\n",
       "      <td>umdryebvlapkosfstfcnihjqxe</td>\n",
       "      <td>umdryebvlapkosfstfcnihjqxe</td>\n",
       "      <td>100</td>\n",
       "    </tr>\n",
       "    <tr>\n",
       "      <th>21586</th>\n",
       "      <td>umqryebvlaphozfstwcnihjqxn</td>\n",
       "      <td>umqryebvlaphozfstwcnihjqxn</td>\n",
       "      <td>100</td>\n",
       "    </tr>\n",
       "    <tr>\n",
       "      <th>21335</th>\n",
       "      <td>amdryhbvlapkozfstwcnifjqxg</td>\n",
       "      <td>amdryhbvlapkozfstwcnifjqxg</td>\n",
       "      <td>100</td>\n",
       "    </tr>\n",
       "    <tr>\n",
       "      <th>21084</th>\n",
       "      <td>ufdryebvzapkozfstwcnbhjqxg</td>\n",
       "      <td>ufdryebvzapkozfstwcnbhjqxg</td>\n",
       "      <td>100</td>\n",
       "    </tr>\n",
       "    <tr>\n",
       "      <th>20833</th>\n",
       "      <td>uxdryebvlapkozfstwhniheqxg</td>\n",
       "      <td>uxdryebvlapkozfstwhniheqxg</td>\n",
       "      <td>100</td>\n",
       "    </tr>\n",
       "    <tr>\n",
       "      <th>20582</th>\n",
       "      <td>umdryebxlapkozfatwcnihjqxx</td>\n",
       "      <td>umdryebxlapkozfatwcnihjqxx</td>\n",
       "      <td>100</td>\n",
       "    </tr>\n",
       "    <tr>\n",
       "      <th>20331</th>\n",
       "      <td>umdryebvlapkolistwnnihjqxg</td>\n",
       "      <td>umdryebvlapkolistwnnihjqxg</td>\n",
       "      <td>100</td>\n",
       "    </tr>\n",
       "    <tr>\n",
       "      <th>20080</th>\n",
       "      <td>mmdrtebvlapcozfstwcnihjqxg</td>\n",
       "      <td>mmdrtebvlapcozfstwcnihjqxg</td>\n",
       "      <td>100</td>\n",
       "    </tr>\n",
       "    <tr>\n",
       "      <th>19578</th>\n",
       "      <td>ukdryobvlapkozistwcnihjqxg</td>\n",
       "      <td>ukdryobvlapkozistwcnihjqxg</td>\n",
       "      <td>100</td>\n",
       "    </tr>\n",
       "    <tr>\n",
       "      <th>31375</th>\n",
       "      <td>umdryeavbackozfstwcnihjqxg</td>\n",
       "      <td>umdryeavbackozfstwcnihjqxg</td>\n",
       "      <td>100</td>\n",
       "    </tr>\n",
       "    <tr>\n",
       "      <th>19327</th>\n",
       "      <td>umdryebvxakkozfstwinihjqxg</td>\n",
       "      <td>umdryebvxakkozfstwinihjqxg</td>\n",
       "      <td>100</td>\n",
       "    </tr>\n",
       "    <tr>\n",
       "      <th>19076</th>\n",
       "      <td>kmdryebulapkoznstwcnihjqxg</td>\n",
       "      <td>kmdryebulapkoznstwcnihjqxg</td>\n",
       "      <td>100</td>\n",
       "    </tr>\n",
       "    <tr>\n",
       "      <th>18825</th>\n",
       "      <td>umdryebvlazkomfstwynihjqxg</td>\n",
       "      <td>umdryebvlazkomfstwynihjqxg</td>\n",
       "      <td>100</td>\n",
       "    </tr>\n",
       "  </tbody>\n",
       "</table>\n",
       "</div>"
      ],
      "text/plain": [
       "                                0                           1    2\n",
       "0      umdryebvlapkozostecnihjexg  umdryebvlapkozostecnihjexg  100\n",
       "19829  umdryebveapkozfstwcnthjqgg  umdryebveapkozfstwcnthjqgg  100\n",
       "23092  umdryesvnapkozestwcnihjqxg  umdryesvnapkozestwcnihjqxg  100\n",
       "22841  umdryebvmapkozfstichihjqxg  umdryebvmapkozfstichihjqxg  100\n",
       "22590  umdryebvrapkozfstmcndhjqxg  umdryebvrapkozfstmcndhjqxg  100\n",
       "22339  umdrnebvlkpkozfstwcnihjnxg  umdrnebvlkpkozfstwcnihjnxg  100\n",
       "22088  gmkryebvlapkozfstwcnihjmxg  gmkryebvlapkozfstwcnihjmxg  100\n",
       "21837  umdryebvlapkosfstfcnihjqxe  umdryebvlapkosfstfcnihjqxe  100\n",
       "21586  umqryebvlaphozfstwcnihjqxn  umqryebvlaphozfstwcnihjqxn  100\n",
       "21335  amdryhbvlapkozfstwcnifjqxg  amdryhbvlapkozfstwcnifjqxg  100\n",
       "21084  ufdryebvzapkozfstwcnbhjqxg  ufdryebvzapkozfstwcnbhjqxg  100\n",
       "20833  uxdryebvlapkozfstwhniheqxg  uxdryebvlapkozfstwhniheqxg  100\n",
       "20582  umdryebxlapkozfatwcnihjqxx  umdryebxlapkozfatwcnihjqxx  100\n",
       "20331  umdryebvlapkolistwnnihjqxg  umdryebvlapkolistwnnihjqxg  100\n",
       "20080  mmdrtebvlapcozfstwcnihjqxg  mmdrtebvlapcozfstwcnihjqxg  100\n",
       "19578  ukdryobvlapkozistwcnihjqxg  ukdryobvlapkozistwcnihjqxg  100\n",
       "31375  umdryeavbackozfstwcnihjqxg  umdryeavbackozfstwcnihjqxg  100\n",
       "19327  umdryebvxakkozfstwinihjqxg  umdryebvxakkozfstwinihjqxg  100\n",
       "19076  kmdryebulapkoznstwcnihjqxg  kmdryebulapkoznstwcnihjqxg  100\n",
       "18825  umdryebvlazkomfstwynihjqxg  umdryebvlazkomfstwynihjqxg  100"
      ]
     },
     "execution_count": 84,
     "metadata": {},
     "output_type": "execute_result"
    }
   ],
   "source": [
    "y = 0\n",
    "z = 1\n",
    "total = []\n",
    "\n",
    "while y < len(df):\n",
    "    while z < len(df):\n",
    "        str1 = df.iloc[y,0]\n",
    "        str2 = df.iloc[z,0]\n",
    "        ratio = fuzz.ratio(str1,str2)\n",
    "        entry = [str1, str2, ratio]\n",
    "        total.append(entry)\n",
    "        z += 1\n",
    "    z = 0\n",
    "    y += 1\n",
    "\n",
    "compare_df = pd.DataFrame(total)\n",
    "compare_df = compare_df.sort_values(by=[2], ascending=False)\n",
    "print(len(compare_df))\n",
    "print(len(total))\n",
    "compare_df.head(20)"
   ]
  },
  {
   "cell_type": "code",
   "execution_count": 86,
   "metadata": {},
   "outputs": [],
   "source": [
    "# Export to CSV \n",
    "# compare_df.to_csv('compare_df.csv')"
   ]
  },
  {
   "cell_type": "code",
   "execution_count": 100,
   "metadata": {},
   "outputs": [
    {
     "data": {
      "text/html": [
       "<div>\n",
       "<style scoped>\n",
       "    .dataframe tbody tr th:only-of-type {\n",
       "        vertical-align: middle;\n",
       "    }\n",
       "\n",
       "    .dataframe tbody tr th {\n",
       "        vertical-align: top;\n",
       "    }\n",
       "\n",
       "    .dataframe thead th {\n",
       "        text-align: right;\n",
       "    }\n",
       "</style>\n",
       "<table border=\"1\" class=\"dataframe\">\n",
       "  <thead>\n",
       "    <tr style=\"text-align: right;\">\n",
       "      <th></th>\n",
       "      <th>0</th>\n",
       "      <th>1</th>\n",
       "      <th>2</th>\n",
       "    </tr>\n",
       "  </thead>\n",
       "  <tbody>\n",
       "    <tr>\n",
       "      <th>17612</th>\n",
       "      <td>umdryabviapkozistwcnihjqxg</td>\n",
       "      <td>umdryabviapkozistwcnihjqxd</td>\n",
       "      <td>96</td>\n",
       "    </tr>\n",
       "    <tr>\n",
       "      <th>28070</th>\n",
       "      <td>umdryabviapkozistwcnihjqxd</td>\n",
       "      <td>umdryabviapkozistwcnihjqxg</td>\n",
       "      <td>96</td>\n",
       "    </tr>\n",
       "  </tbody>\n",
       "</table>\n",
       "</div>"
      ],
      "text/plain": [
       "                                0                           1   2\n",
       "17612  umdryabviapkozistwcnihjqxg  umdryabviapkozistwcnihjqxd  96\n",
       "28070  umdryabviapkozistwcnihjqxd  umdryabviapkozistwcnihjqxg  96"
      ]
     },
     "execution_count": 100,
     "metadata": {},
     "output_type": "execute_result"
    }
   ],
   "source": [
    "# Query winners?\n",
    "compare_df[(compare_df[2] >= 95) & (compare_df[2] < 100)]"
   ]
  },
  {
   "cell_type": "code",
   "execution_count": null,
   "metadata": {},
   "outputs": [],
   "source": [
    "# umdryabviapkozistwcnihjqxg\n",
    "# umdryabviapkozistwcnihjqxd"
   ]
  }
 ],
 "metadata": {
  "kernelspec": {
   "display_name": "Python 3",
   "language": "python",
   "name": "python3"
  },
  "language_info": {
   "codemirror_mode": {
    "name": "ipython",
    "version": 3
   },
   "file_extension": ".py",
   "mimetype": "text/x-python",
   "name": "python",
   "nbconvert_exporter": "python",
   "pygments_lexer": "ipython3",
   "version": "3.6.5"
  }
 },
 "nbformat": 4,
 "nbformat_minor": 2
}
