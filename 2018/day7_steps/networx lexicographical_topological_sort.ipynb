{
 "cells": [
  {
   "cell_type": "code",
   "execution_count": 2,
   "metadata": {},
   "outputs": [],
   "source": [
    "import networkx as nx"
   ]
  },
  {
   "cell_type": "code",
   "execution_count": 14,
   "metadata": {},
   "outputs": [
    {
     "name": "stdout",
     "output_type": "stream",
     "text": [
      "['Step D must be finished before step L can begin.\\n', 'Step B must be finished before step G can begin.\\n', 'Step N must be finished before step Z can begin.\\n', 'Step V must be finished before step Y can begin.\\n', 'Step G must be finished before step R can begin.\\n', 'Step E must be finished before step L can begin.\\n', 'Step O must be finished before step W can begin.\\n', 'Step Q must be finished before step X can begin.\\n', 'Step Y must be finished before step J can begin.\\n', 'Step W must be finished before step R can begin.\\n', 'Step H must be finished before step P can begin.\\n', 'Step L must be finished before step P can begin.\\n', 'Step X must be finished before step T can begin.\\n', 'Step S must be finished before step K can begin.\\n', 'Step U must be finished before step R can begin.\\n', 'Step P must be finished before step Z can begin.\\n', 'Step A must be finished before step Z can begin.\\n', 'Step M must be finished before step F can begin.\\n', 'Step Z must be finished before step K can begin.\\n', 'Step J must be finished before step K can begin.\\n', 'Step I must be finished before step C can begin.\\n', 'Step K must be finished before step C can begin.\\n', 'Step R must be finished before step C can begin.\\n', 'Step T must be finished before step F can begin.\\n', 'Step F must be finished before step C can begin.\\n', 'Step E must be finished before step C can begin.\\n', 'Step H must be finished before step S can begin.\\n', 'Step X must be finished before step K can begin.\\n', 'Step E must be finished before step Y can begin.\\n', 'Step I must be finished before step T can begin.\\n', 'Step T must be finished before step C can begin.\\n', 'Step R must be finished before step T can begin.\\n', 'Step X must be finished before step U can begin.\\n', 'Step I must be finished before step R can begin.\\n', 'Step I must be finished before step K can begin.\\n', 'Step L must be finished before step A can begin.\\n', 'Step P must be finished before step C can begin.\\n', 'Step D must be finished before step S can begin.\\n', 'Step Q must be finished before step A can begin.\\n', 'Step N must be finished before step G can begin.\\n', 'Step W must be finished before step P can begin.\\n', 'Step B must be finished before step E can begin.\\n', 'Step M must be finished before step T can begin.\\n', 'Step L must be finished before step C can begin.\\n', 'Step E must be finished before step F can begin.\\n', 'Step M must be finished before step I can begin.\\n', 'Step M must be finished before step Z can begin.\\n', 'Step U must be finished before step F can begin.\\n', 'Step W must be finished before step K can begin.\\n', 'Step E must be finished before step W can begin.\\n', 'Step B must be finished before step W can begin.\\n', 'Step A must be finished before step I can begin.\\n', 'Step M must be finished before step K can begin.\\n', 'Step X must be finished before step F can begin.\\n', 'Step O must be finished before step Z can begin.\\n', 'Step W must be finished before step C can begin.\\n', 'Step Q must be finished before step M can begin.\\n', 'Step K must be finished before step R can begin.\\n', 'Step Y must be finished before step C can begin.\\n', 'Step A must be finished before step T can begin.\\n', 'Step G must be finished before step L can begin.\\n', 'Step G must be finished before step A can begin.\\n', 'Step J must be finished before step I can begin.\\n', 'Step N must be finished before step R can begin.\\n', 'Step D must be finished before step W can begin.\\n', 'Step L must be finished before step R can begin.\\n', 'Step Y must be finished before step P can begin.\\n', 'Step S must be finished before step M can begin.\\n', 'Step O must be finished before step I can begin.\\n', 'Step Z must be finished before step J can begin.\\n', 'Step H must be finished before step M can begin.\\n', 'Step L must be finished before step K can begin.\\n', 'Step U must be finished before step M can begin.\\n', 'Step G must be finished before step T can begin.\\n', 'Step O must be finished before step L can begin.\\n', 'Step Z must be finished before step R can begin.\\n', 'Step N must be finished before step E can begin.\\n', 'Step U must be finished before step I can begin.\\n', 'Step G must be finished before step Q can begin.\\n', 'Step H must be finished before step R can begin.\\n', 'Step U must be finished before step C can begin.\\n', 'Step L must be finished before step U can begin.\\n', 'Step H must be finished before step Z can begin.\\n', 'Step P must be finished before step F can begin.\\n', 'Step I must be finished before step F can begin.\\n', 'Step B must be finished before step N can begin.\\n', 'Step J must be finished before step R can begin.\\n', 'Step O must be finished before step S can begin.\\n', 'Step Y must be finished before step T can begin.\\n', 'Step G must be finished before step S can begin.\\n', 'Step N must be finished before step O can begin.\\n', 'Step Y must be finished before step X can begin.\\n', 'Step B must be finished before step X can begin.\\n', 'Step A must be finished before step F can begin.\\n', 'Step Z must be finished before step I can begin.\\n', 'Step K must be finished before step F can begin.\\n', 'Step J must be finished before step C can begin.\\n', 'Step D must be finished before step G can begin.\\n', 'Step P must be finished before step M can begin.\\n', 'Step K must be finished before step T can begin.\\n', 'Step X must be finished before step M can begin.']\n"
     ]
    }
   ],
   "source": [
    "lines = open('steps.txt','r').readlines()\n",
    "print(lines)"
   ]
  },
  {
   "cell_type": "code",
   "execution_count": 15,
   "metadata": {},
   "outputs": [
    {
     "name": "stdout",
     "output_type": "stream",
     "text": [
      "BDHNEGOLQASVWYPXUMZJIKRTFC\n"
     ]
    }
   ],
   "source": [
    "# part 1\n",
    "G = nx.DiGraph()\n",
    "for line in lines:\n",
    "    parts = line.split(\" \")\n",
    "    G.add_edge(parts[1], parts[7])\n",
    "print(''.join(nx.lexicographical_topological_sort(G)))"
   ]
  },
  {
   "cell_type": "code",
   "execution_count": 16,
   "metadata": {},
   "outputs": [
    {
     "name": "stdout",
     "output_type": "stream",
     "text": [
      "1107\n"
     ]
    }
   ],
   "source": [
    "# part 2\n",
    "task_times = []\n",
    "tasks = []\n",
    "time = 0\n",
    "while task_times or G:\n",
    "    available_tasks = [t for t in G if t not in tasks and G.in_degree(t) == 0]\n",
    "    if available_tasks and len(task_times) < 5:\n",
    "        task = min(available_tasks)  # min gets smallest task alphabetically\n",
    "        task_times.append(ord(task) - 4)\n",
    "        tasks.append(task)\n",
    "    else:\n",
    "        min_time = min(task_times)\n",
    "        completed = [tasks[i] for i, v in enumerate(task_times) if v == min_time]\n",
    "        task_times = [v - min_time for v in task_times if v > min_time]\n",
    "        tasks = [t for t in tasks if t not in completed]\n",
    "        time += min_time\n",
    "        G.remove_nodes_from(completed)\n",
    "\n",
    "print(time)"
   ]
  },
  {
   "cell_type": "code",
   "execution_count": null,
   "metadata": {},
   "outputs": [],
   "source": []
  }
 ],
 "metadata": {
  "kernelspec": {
   "display_name": "Python 3",
   "language": "python",
   "name": "python3"
  },
  "language_info": {
   "codemirror_mode": {
    "name": "ipython",
    "version": 3
   },
   "file_extension": ".py",
   "mimetype": "text/x-python",
   "name": "python",
   "nbconvert_exporter": "python",
   "pygments_lexer": "ipython3",
   "version": "3.6.5"
  }
 },
 "nbformat": 4,
 "nbformat_minor": 2
}
