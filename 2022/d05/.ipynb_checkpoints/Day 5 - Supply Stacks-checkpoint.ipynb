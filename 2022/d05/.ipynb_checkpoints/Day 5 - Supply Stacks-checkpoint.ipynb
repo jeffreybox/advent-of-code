{
 "cells": [
  {
   "cell_type": "markdown",
   "id": "88553ba2",
   "metadata": {},
   "source": [
    "# AOC 2022: Day 5 - Supply Stacks"
   ]
  },
  {
   "cell_type": "code",
   "execution_count": null,
   "id": "ea1e740a",
   "metadata": {},
   "outputs": [],
   "source": [
    "            [J] [Z] [G]            \n",
    "            [Z] [T] [S] [P] [R]    \n",
    "[R]         [Q] [V] [B] [G] [J]    \n",
    "[W] [W]     [N] [L] [V] [W] [C]    \n",
    "[F] [Q]     [T] [G] [C] [T] [T] [W]\n",
    "[H] [D] [W] [W] [H] [T] [R] [M] [B]\n",
    "[T] [G] [T] [R] [B] [P] [B] [G] [G]\n",
    "[S] [S] [B] [D] [F] [L] [Z] [N] [L]\n",
    " 1   2   3   4   5   6   7   8   9 "
   ]
  },
  {
   "cell_type": "code",
   "execution_count": 1,
   "id": "a1158074",
   "metadata": {},
   "outputs": [],
   "source": [
    "# dependencies\n",
    "import numpy as np"
   ]
  },
  {
   "cell_type": "markdown",
   "id": "620138c9",
   "metadata": {},
   "source": [
    "### DATA"
   ]
  },
  {
   "cell_type": "code",
   "execution_count": 2,
   "id": "81961e9e",
   "metadata": {},
   "outputs": [],
   "source": [
    "path = 'data/aoc2022day5_puzzlemovement.txt'"
   ]
  },
  {
   "cell_type": "code",
   "execution_count": 3,
   "id": "c1598fb5",
   "metadata": {},
   "outputs": [
    {
     "name": "stdout",
     "output_type": "stream",
     "text": [
      "length = 502\n",
      "test output... ['move 4 from 2 to 1', 'move 1 from 6 to 9', 'move 6 from 4 to 7']\n"
     ]
    }
   ],
   "source": [
    "with open(path) as f:\n",
    "    instructions = [line.rstrip() for line in f]\n",
    "\n",
    "print(f'length = {len(instructions)}')\n",
    "print(f'test output... {instructions[:3]}')"
   ]
  },
  {
   "cell_type": "code",
   "execution_count": 4,
   "id": "44291845",
   "metadata": {},
   "outputs": [],
   "source": [
    "# manually create a dictionary representation of the puzzle start\n",
    "\n",
    "data = {\n",
    "    1:['S','T','H','F','W','R'],\n",
    "    2:['S','G','D','Q','W'],\n",
    "    3:['B','T','W'],\n",
    "    4:['D','R','W','T','N','Q','Z','J'],\n",
    "    5:['F','B','H','G','L','V','T','Z'],\n",
    "    6:['L','P','T','C','V','B','S','G'],\n",
    "    7:['Z','B','R','T','W','G','P'],\n",
    "    8:['N','G','M','T','C','J','R'],\n",
    "    9:['L','G','B','W'],\n",
    "}"
   ]
  },
  {
   "cell_type": "markdown",
   "id": "ce5267f5",
   "metadata": {},
   "source": [
    "### PART 1"
   ]
  },
  {
   "cell_type": "code",
   "execution_count": 5,
   "id": "9b22dddd",
   "metadata": {},
   "outputs": [],
   "source": [
    "def parser(instruction):\n",
    "    x = int(instruction.split('move ')[1].split(' from ')[0])\n",
    "    y = int(instruction.split('move ')[1].split(' from ')[1].split(' to ')[0])\n",
    "    z = int(instruction.split('move ')[1].split(' from ')[1].split(' to ')[1])\n",
    "    return x,y,z"
   ]
  },
  {
   "cell_type": "code",
   "execution_count": 16,
   "id": "3a365818",
   "metadata": {
    "scrolled": true
   },
   "outputs": [],
   "source": [
    "puzzle = data.copy()\n",
    "\n",
    "for i in instructions:\n",
    "    x,y,z = parser(i)\n",
    "    move = puzzle[y][-x:][::-1] # reverse the list to simulate picking up one at a time\n",
    "    remove = puzzle[y][:-x]\n",
    "    new = puzzle[z]+move\n",
    "    puzzle.update({y:remove, z:new})"
   ]
  },
  {
   "cell_type": "code",
   "execution_count": 17,
   "id": "a20821e7",
   "metadata": {},
   "outputs": [
    {
     "name": "stdout",
     "output_type": "stream",
     "text": [
      "{1: ['Z'], 2: ['G', 'T', 'S', 'W', 'T', 'D', 'Z', 'R', 'M', 'J', 'R'], 3: ['V', 'W', 'T', 'T', 'L'], 4: ['G', 'P', 'L', 'Q', 'J'], 5: ['Z', 'B', 'P', 'G', 'L', 'C', 'B', 'W', 'N', 'G'], 6: ['H', 'S'], 7: ['D', 'W', 'H', 'B', 'V', 'W', 'G', 'R', 'T', 'B', 'T', 'F', 'Q', 'W', 'F', 'S', 'N', 'C'], 8: ['T'], 9: ['B', 'G', 'R']}\n"
     ]
    }
   ],
   "source": [
    "# print(puzzle)"
   ]
  },
  {
   "cell_type": "code",
   "execution_count": 18,
   "id": "3bbd2026",
   "metadata": {},
   "outputs": [
    {
     "name": "stdout",
     "output_type": "stream",
     "text": [
      "ZRLJGSCTR\n"
     ]
    }
   ],
   "source": [
    "answer = ''\n",
    "for n in np.arange(1,10):\n",
    "    answer += puzzle[n][-1]\n",
    "print(answer)"
   ]
  },
  {
   "cell_type": "markdown",
   "id": "ef61b9af",
   "metadata": {},
   "source": [
    "### PART 2"
   ]
  },
  {
   "cell_type": "code",
   "execution_count": 19,
   "id": "b584651b",
   "metadata": {},
   "outputs": [],
   "source": [
    "puzzle = data.copy()\n",
    "\n",
    "for i in instructions:\n",
    "    x,y,z = parser(i)\n",
    "    move = puzzle[y][-x:] # no reverse here to simulate picking up multiple \n",
    "    remove = puzzle[y][:-x]\n",
    "    new = puzzle[z]+move\n",
    "    puzzle.update({y:remove, z:new})"
   ]
  },
  {
   "cell_type": "code",
   "execution_count": 20,
   "id": "3ed9759d",
   "metadata": {},
   "outputs": [
    {
     "name": "stdout",
     "output_type": "stream",
     "text": [
      "PRTTGRFPB\n"
     ]
    }
   ],
   "source": [
    "answer = ''\n",
    "for n in np.arange(1,10):\n",
    "    answer += puzzle[n][-1]\n",
    "print(answer)"
   ]
  },
  {
   "cell_type": "code",
   "execution_count": null,
   "id": "c1144d22",
   "metadata": {},
   "outputs": [],
   "source": []
  }
 ],
 "metadata": {
  "kernelspec": {
   "display_name": "aoc",
   "language": "python",
   "name": "aoc"
  },
  "language_info": {
   "codemirror_mode": {
    "name": "ipython",
    "version": 3
   },
   "file_extension": ".py",
   "mimetype": "text/x-python",
   "name": "python",
   "nbconvert_exporter": "python",
   "pygments_lexer": "ipython3",
   "version": "3.11.3"
  }
 },
 "nbformat": 4,
 "nbformat_minor": 5
}
