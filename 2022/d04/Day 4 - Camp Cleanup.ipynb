{
 "cells": [
  {
   "cell_type": "markdown",
   "id": "182ce21e",
   "metadata": {},
   "source": [
    "# AOC 2022: Day 4 - Camp Cleanup"
   ]
  },
  {
   "cell_type": "code",
   "execution_count": 1,
   "id": "2aabbcc8",
   "metadata": {},
   "outputs": [],
   "source": [
    "#dependencies\n",
    "import numpy as np"
   ]
  },
  {
   "cell_type": "markdown",
   "id": "7a57c1e2",
   "metadata": {},
   "source": [
    "### DATA"
   ]
  },
  {
   "cell_type": "code",
   "execution_count": 2,
   "id": "c026219a",
   "metadata": {},
   "outputs": [],
   "source": [
    "path = 'data/aoc2022day4.txt'"
   ]
  },
  {
   "cell_type": "code",
   "execution_count": 3,
   "id": "ea5437d8",
   "metadata": {},
   "outputs": [
    {
     "name": "stdout",
     "output_type": "stream",
     "text": [
      "length = 1000\n",
      "test output... ['61-78,61-77', '1-98,23-98', '70-70,3-70']\n"
     ]
    }
   ],
   "source": [
    "with open(path) as f:\n",
    "    assignments = [line.rstrip() for line in f]\n",
    "\n",
    "print(f'length = {len(assignments)}')\n",
    "print(f'test output... {assignments[:3]}')"
   ]
  },
  {
   "cell_type": "markdown",
   "id": "33b24492",
   "metadata": {},
   "source": [
    "### PART 1"
   ]
  },
  {
   "cell_type": "code",
   "execution_count": 9,
   "id": "d49a822c",
   "metadata": {},
   "outputs": [
    {
     "name": "stdout",
     "output_type": "stream",
     "text": [
      "644\n"
     ]
    }
   ],
   "source": [
    "x = 0 # our counter\n",
    "\n",
    "for a in assignments:\n",
    "    # split out the two groups using delimeters\n",
    "    groups = a.split(\",\")     \n",
    "    g1 = groups[0].split(\"-\")\n",
    "    g2 = groups[1].split(\"-\")\n",
    "    # create the ranges and convert to lists\n",
    "    r1 = list(np.arange(int(g1[0]),int(g1[1])+1))\n",
    "    r2 = list(np.arange(int(g2[0]),int(g2[1])+1))\n",
    "    # use sets to compare lists both directions\n",
    "    if set(r1).issubset(r2) or set(r2).issubset(r1):\n",
    "        x = x+1\n",
    "        \n",
    "print(x)"
   ]
  },
  {
   "cell_type": "markdown",
   "id": "35d5d0f7",
   "metadata": {},
   "source": [
    "### PART 2"
   ]
  },
  {
   "cell_type": "code",
   "execution_count": 21,
   "id": "ccc3eed6",
   "metadata": {},
   "outputs": [
    {
     "name": "stdout",
     "output_type": "stream",
     "text": [
      "926\n"
     ]
    }
   ],
   "source": [
    "y = 0 # our new counter\n",
    "\n",
    "for a in assignments:\n",
    "    # split out the two groups using delimeters\n",
    "    groups = a.split(\",\")     \n",
    "    g1 = groups[0].split(\"-\")\n",
    "    g2 = groups[1].split(\"-\")\n",
    "    # create the ranges and convert to lists\n",
    "    r1 = list(np.arange(int(g1[0]),int(g1[1])+1))\n",
    "    r2 = list(np.arange(int(g2[0]),int(g2[1])+1))\n",
    "    # use any to compare lists both directions\n",
    "    if any(i in r1 for i in r2) or any(i in r2 for i in r1):\n",
    "        y = y+1\n",
    "        \n",
    "print(y)"
   ]
  }
 ],
 "metadata": {
  "kernelspec": {
   "display_name": "aoc",
   "language": "python",
   "name": "aoc"
  },
  "language_info": {
   "codemirror_mode": {
    "name": "ipython",
    "version": 3
   },
   "file_extension": ".py",
   "mimetype": "text/x-python",
   "name": "python",
   "nbconvert_exporter": "python",
   "pygments_lexer": "ipython3",
   "version": "3.11.3"
  }
 },
 "nbformat": 4,
 "nbformat_minor": 5
}
