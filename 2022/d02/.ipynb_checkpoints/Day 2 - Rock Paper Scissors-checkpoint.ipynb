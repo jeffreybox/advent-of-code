{
 "cells": [
  {
   "cell_type": "markdown",
   "id": "8a8cd64c",
   "metadata": {},
   "source": [
    "# AOC 2022: Day 2 - Rock Paper Scissors"
   ]
  },
  {
   "cell_type": "code",
   "execution_count": 1,
   "id": "4a1d3825",
   "metadata": {},
   "outputs": [],
   "source": [
    "# dependencies"
   ]
  },
  {
   "cell_type": "markdown",
   "id": "ecc4edf2",
   "metadata": {},
   "source": [
    "### DATA"
   ]
  },
  {
   "cell_type": "code",
   "execution_count": 2,
   "id": "20eb61cd",
   "metadata": {},
   "outputs": [],
   "source": [
    "path = 'data/aoc2022day2.txt'"
   ]
  },
  {
   "cell_type": "code",
   "execution_count": 3,
   "id": "a45c4a27",
   "metadata": {},
   "outputs": [
    {
     "name": "stdout",
     "output_type": "stream",
     "text": [
      "length = 2500\n",
      "position 0: C\n",
      "position 1:  \n",
      "position 2: Y\n",
      "test output... ['C Y', 'A Z', 'B Y', 'A Z', 'A X', 'A Z', 'B Y', 'A Z', 'B Y', 'C Z']\n"
     ]
    }
   ],
   "source": [
    "with open(path) as f:\n",
    "    ls = [line.rstrip() for line in f]\n",
    "\n",
    "print(f'length = {len(ls)}')\n",
    "print(f'position 0: {ls[0][0]}')\n",
    "print(f'position 1: {ls[0][1]}')\n",
    "print(f'position 2: {ls[0][2]}')\n",
    "print(f'test output... {ls[:10]}')"
   ]
  },
  {
   "cell_type": "markdown",
   "id": "0026acfd",
   "metadata": {},
   "source": [
    "### PART 1"
   ]
  },
  {
   "cell_type": "code",
   "execution_count": 4,
   "id": "92237b69",
   "metadata": {},
   "outputs": [
    {
     "name": "stdout",
     "output_type": "stream",
     "text": [
      "length of list: 2500\n",
      "test ouput: [2, 3, 5, 3, 4, 3, 5, 3, 5, 6]\n"
     ]
    }
   ],
   "source": [
    "#scoring grid\n",
    "opponent = 0\n",
    "me = 2\n",
    "outcomes = []\n",
    "\n",
    "for l in ls:\n",
    "    #i choose rock\n",
    "    if l[me] == 'X' and l[opponent] == 'A':\n",
    "        #draw\n",
    "        s1 = 3\n",
    "        s2 = 1 \n",
    "    elif l[me] == 'X' and l[opponent] == 'B':\n",
    "        #lose\n",
    "        s1 = 0\n",
    "        s2 = 1 \n",
    "    elif l[me] == 'X' and l[opponent] == 'C':\n",
    "        #win\n",
    "        s1 = 6\n",
    "        s2 = 1 \n",
    "        \n",
    "    #i choose paper\n",
    "    elif l[me] == 'Y' and l[opponent] == 'A':\n",
    "        #win\n",
    "        s1 = 6\n",
    "        s2 = 2\n",
    "    elif l[me] == 'Y' and l[opponent] == 'B':\n",
    "        #draw\n",
    "        s1 = 3\n",
    "        s2 = 2\n",
    "    elif l[me] == 'Y' and l[opponent] == 'C':\n",
    "        #lose\n",
    "        s1 = 0\n",
    "        s2 = 2\n",
    "        \n",
    "    #scissors\n",
    "    elif l[me] == 'Z' and l[opponent] == 'A':\n",
    "        #lose\n",
    "        s1 = 0\n",
    "        s2 = 3\n",
    "    elif l[me] == 'Z' and l[opponent] == 'B':\n",
    "        #win\n",
    "        s1 = 6\n",
    "        s2 = 3\n",
    "    elif l[me] == 'Z' and l[opponent] == 'C':\n",
    "        #draw\n",
    "        s1 = 3\n",
    "        s2 = 3\n",
    "    #iterate\n",
    "    outcomes.append(s1+s2)\n",
    "\n",
    "print(f'length of list: {len(outcomes)}')\n",
    "print(f'test ouput: {outcomes[:10]}')"
   ]
  },
  {
   "cell_type": "code",
   "execution_count": 5,
   "id": "ea97f48c",
   "metadata": {},
   "outputs": [
    {
     "data": {
      "text/plain": [
       "10941"
      ]
     },
     "execution_count": 5,
     "metadata": {},
     "output_type": "execute_result"
    }
   ],
   "source": [
    "sum(outcomes)"
   ]
  },
  {
   "cell_type": "markdown",
   "id": "9634e5bc",
   "metadata": {},
   "source": [
    "### PART 2"
   ]
  },
  {
   "cell_type": "code",
   "execution_count": 6,
   "id": "b7c8660b",
   "metadata": {},
   "outputs": [],
   "source": [
    "# column a = opponent\n",
    "\n",
    "# a = rock\n",
    "# b = paper\n",
    "# c = scissors\n",
    "\n",
    "# column b = what you should play\n",
    "\n",
    "# x = lose\n",
    "# y = draw\n",
    "# z = win\n",
    "\n",
    "# scoring two part\n",
    "\n",
    "# SHAPE\n",
    "# 1 = rock\n",
    "# 2 = paper\n",
    "# 3 = scissors\n",
    "# + \n",
    "# OUTCOME\n",
    "# 0 = loss\n",
    "# 3 = draw\n",
    "# 6 = win"
   ]
  },
  {
   "cell_type": "code",
   "execution_count": 7,
   "id": "b9ee26f4",
   "metadata": {},
   "outputs": [
    {
     "name": "stdout",
     "output_type": "stream",
     "text": [
      "length of list: 2500\n",
      "test ouput: [6, 8, 5, 8, 3, 8, 5, 8, 5, 7]\n"
     ]
    }
   ],
   "source": [
    "#scoring grid\n",
    "\n",
    "needoutcomes = []\n",
    "\n",
    "#x = lose\n",
    "#y = draw\n",
    "#z = win\n",
    "\n",
    "for l in ls:\n",
    "    #i lose\n",
    "    if l[me] == 'X' and l[opponent] == 'A':\n",
    "        s1 = 3 #scissors\n",
    "        s2 = 0 \n",
    "    elif l[me] == 'X' and l[opponent] == 'B':\n",
    "        s1 = 1 #rock\n",
    "        s2 = 0 \n",
    "    elif l[me] == 'X' and l[opponent] == 'C':\n",
    "        s1 = 2 #paper\n",
    "        s2 = 0 \n",
    "        \n",
    "    #i draw\n",
    "    elif l[me] == 'Y' and l[opponent] == 'A':\n",
    "        s1 = 1\n",
    "        s2 = 3\n",
    "    elif l[me] == 'Y' and l[opponent] == 'B':\n",
    "        s1 = 2\n",
    "        s2 = 3\n",
    "    elif l[me] == 'Y' and l[opponent] == 'C':\n",
    "        s1 = 3\n",
    "        s2 = 3\n",
    "        \n",
    "    #i win\n",
    "    elif l[me] == 'Z' and l[opponent] == 'A':\n",
    "        s1 = 2\n",
    "        s2 = 6\n",
    "    elif l[me] == 'Z' and l[opponent] == 'B':\n",
    "        s1 = 3\n",
    "        s2 = 6\n",
    "    elif l[me] == 'Z' and l[opponent] == 'C':\n",
    "        s1 = 1\n",
    "        s2 = 6\n",
    "    #iterate\n",
    "    needoutcomes.append(s1+s2)\n",
    "\n",
    "print(f'length of list: {len(needoutcomes)}')\n",
    "print(f'test ouput: {needoutcomes[:10]}')"
   ]
  },
  {
   "cell_type": "code",
   "execution_count": 8,
   "id": "e731a70f",
   "metadata": {},
   "outputs": [
    {
     "data": {
      "text/plain": [
       "13071"
      ]
     },
     "execution_count": 8,
     "metadata": {},
     "output_type": "execute_result"
    }
   ],
   "source": [
    "sum(needoutcomes)"
   ]
  },
  {
   "cell_type": "code",
   "execution_count": null,
   "id": "c07e2646",
   "metadata": {},
   "outputs": [],
   "source": []
  }
 ],
 "metadata": {
  "kernelspec": {
   "display_name": "Python 3 (ipykernel)",
   "language": "python",
   "name": "python3"
  },
  "language_info": {
   "codemirror_mode": {
    "name": "ipython",
    "version": 3
   },
   "file_extension": ".py",
   "mimetype": "text/x-python",
   "name": "python",
   "nbconvert_exporter": "python",
   "pygments_lexer": "ipython3",
   "version": "3.10.5"
  }
 },
 "nbformat": 4,
 "nbformat_minor": 5
}
