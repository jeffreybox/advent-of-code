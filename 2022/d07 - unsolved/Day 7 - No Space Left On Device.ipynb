{
 "cells": [
  {
   "cell_type": "markdown",
   "id": "44f913a6",
   "metadata": {},
   "source": [
    "# AOC 2022: Day 7 - No Space Left On Device"
   ]
  },
  {
   "cell_type": "code",
   "execution_count": 19,
   "id": "166ad0fd",
   "metadata": {},
   "outputs": [],
   "source": [
    "# dependencies\n",
    "import os"
   ]
  },
  {
   "cell_type": "markdown",
   "id": "e641e912",
   "metadata": {},
   "source": [
    "### DATA"
   ]
  },
  {
   "cell_type": "code",
   "execution_count": 2,
   "id": "9f62e170",
   "metadata": {},
   "outputs": [],
   "source": [
    "path = 'data/aoc2022day7.txt'"
   ]
  },
  {
   "cell_type": "code",
   "execution_count": 20,
   "id": "9e46f3cd",
   "metadata": {},
   "outputs": [],
   "source": [
    "path = 'data/sample.txt'"
   ]
  },
  {
   "cell_type": "code",
   "execution_count": 21,
   "id": "8da5120d",
   "metadata": {},
   "outputs": [
    {
     "name": "stdout",
     "output_type": "stream",
     "text": [
      "length = 23\n",
      "test output... ['$ cd /', '$ ls', 'dir a']\n"
     ]
    }
   ],
   "source": [
    "with open(path) as f:\n",
    "    commands = [line.rstrip() for line in f]\n",
    "\n",
    "print(f'length = {len(commands)}')\n",
    "print(f'test output... {commands[:3]}')"
   ]
  },
  {
   "cell_type": "markdown",
   "id": "dfd21887",
   "metadata": {},
   "source": [
    "### MY ATTEMPT\n",
    "\n",
    "Originally tried to mock create the directory... these OS commands are useful even though the approach is wrong"
   ]
  },
  {
   "cell_type": "code",
   "execution_count": 22,
   "id": "970cd5b3",
   "metadata": {},
   "outputs": [],
   "source": [
    "# os.chdir(\"data\")\n",
    "# os.getcwd()\n",
    "# try:\n",
    "#     os.system(\"rm -r 'home'\")\n",
    "#     os.system(\"mkdir 'home'\")\n",
    "# except OSError as e:\n",
    "#     print(e)\n",
    "#     os.system(\"cd 'data'; mkdir 'home'\")\n",
    "#     os.chdir(\"data\")\n",
    "# os.getcwd()"
   ]
  },
  {
   "cell_type": "markdown",
   "id": "f1063bf2",
   "metadata": {},
   "source": [
    "### PART 1\n",
    "\n",
    "Find all of the directories with a total size of at most 100000. What is the sum of the total sizes of those directories?"
   ]
  },
  {
   "cell_type": "markdown",
   "id": "b146e11b",
   "metadata": {},
   "source": [
    "if the item begins with 'cd dir'\n",
    "    then collect the next items beginning with a number\n",
    "    "
   ]
  },
  {
   "cell_type": "code",
   "execution_count": 25,
   "id": "db6fb820",
   "metadata": {},
   "outputs": [
    {
     "name": "stdout",
     "output_type": "stream",
     "text": [
      "/\n",
      "14848514\n",
      "23352670\n",
      "a\n",
      "29116\n",
      "31673\n",
      "94269\n",
      "e\n",
      "584\n",
      "d\n",
      "4060174\n",
      "12093194\n",
      "17719346\n",
      "24933642\n"
     ]
    }
   ],
   "source": [
    "# this works, but it doesn't account for the hierarchy -- aka, subdirectories\n",
    "\n",
    "cmd_dict = {}\n",
    "\n",
    "for t in commands:\n",
    "    if t.startswith('$ cd') and t != '$ cd ..':\n",
    "        value = 0\n",
    "        condition = True\n",
    "        new_key = t[5:]\n",
    "        print(new_key)\n",
    "    else:\n",
    "        condition = False\n",
    "    if condition == False:\n",
    "        if t[0].isdigit():\n",
    "            value += int(t.split(\" \")[0])\n",
    "            print(value)\n",
    "        cmd_dict[new_key] = value"
   ]
  },
  {
   "cell_type": "code",
   "execution_count": 18,
   "id": "3127484b",
   "metadata": {},
   "outputs": [
    {
     "name": "stdout",
     "output_type": "stream",
     "text": [
      "{'/': 678132, 'bqm': 1075080, 'ctztn': 1467619, 'gpgbfzbs': 1822329, 'hfvqpt': 2010965, 'cggfgt': 2723233, 'glnrg': 3264620, 'mptpfvlh': 3385794, 'lsbjp': 3745733, 'jqclpq': 3935052, 'whp': 3935052, 'lgdlztb': 4029202, 'vmvpf': 4095908, 'pfzd': 4441503, 'ljtdcgt': 4575681, 'plltpvgv': 4931257, 'zrc': 4976620}\n"
     ]
    }
   ],
   "source": [
    "print(cmd_dict)"
   ]
  },
  {
   "cell_type": "code",
   "execution_count": 14,
   "id": "12a44efb",
   "metadata": {},
   "outputs": [
    {
     "name": "stdout",
     "output_type": "stream",
     "text": [
      "0\n"
     ]
    }
   ],
   "source": [
    "# counting the dict\n",
    "x = 0\n",
    "for key in cmd_dict:\n",
    "    if cmd_dict[key] <= 100000:\n",
    "        x += 1 \n",
    "print(x)"
   ]
  },
  {
   "cell_type": "code",
   "execution_count": 27,
   "id": "8c2ce424",
   "metadata": {},
   "outputs": [
    {
     "data": {
      "text/plain": [
       "defaultdict(int, {})"
      ]
     },
     "execution_count": 27,
     "metadata": {},
     "output_type": "execute_result"
    }
   ],
   "source": [
    "from collections import defaultdict\n",
    "sizes = defaultdict(int)\n",
    "sizes"
   ]
  },
  {
   "cell_type": "markdown",
   "id": "0add8a82",
   "metadata": {},
   "source": [
    "### REDDIT SOLUTION\n",
    "https://github.com/silentw0lf/advent_of_code_2022/blob/main/07/solve.py"
   ]
  },
  {
   "cell_type": "code",
   "execution_count": null,
   "id": "510985fa",
   "metadata": {},
   "outputs": [],
   "source": [
    "from collections import defaultdict"
   ]
  },
  {
   "cell_type": "code",
   "execution_count": 28,
   "id": "32381093",
   "metadata": {},
   "outputs": [
    {
     "data": {
      "text/plain": [
       "['$ cd /\\n',\n",
       " '$ ls\\n',\n",
       " 'dir a\\n',\n",
       " '14848514 b.txt\\n',\n",
       " '8504156 c.dat\\n',\n",
       " 'dir d\\n',\n",
       " '$ cd a\\n',\n",
       " '$ ls\\n',\n",
       " 'dir e\\n',\n",
       " '29116 f\\n',\n",
       " '2557 g\\n',\n",
       " '62596 h.lst\\n',\n",
       " '$ cd e\\n',\n",
       " '$ ls\\n',\n",
       " '584 i\\n',\n",
       " '$ cd ..\\n',\n",
       " '$ cd ..\\n',\n",
       " '$ cd d\\n',\n",
       " '$ ls\\n',\n",
       " '4060174 j\\n',\n",
       " '8033020 d.log\\n',\n",
       " '5626152 d.ext\\n',\n",
       " '7214296 k']"
      ]
     },
     "execution_count": 28,
     "metadata": {},
     "output_type": "execute_result"
    }
   ],
   "source": [
    "with open(\"data/sample.txt\") as f:\n",
    "    commands = f.readlines()\n",
    "\n",
    "commands"
   ]
  },
  {
   "cell_type": "code",
   "execution_count": 33,
   "id": "f319e779",
   "metadata": {},
   "outputs": [
    {
     "name": "stdout",
     "output_type": "stream",
     "text": [
      "dest: /\n",
      "path: /\n",
      "stack: ['/']\n",
      "size: 14848514\n",
      "file: b.txt\n",
      "sizes[path]: 14848514\n",
      "size: 8504156\n",
      "file: c.dat\n",
      "sizes[path]: 23352670\n",
      "dest: a\n",
      "path: /_a\n",
      "stack: ['/', '/_a']\n",
      "size: 29116\n",
      "file: f\n",
      "sizes[path]: 23381786\n",
      "size: 29116\n",
      "file: f\n",
      "sizes[path]: 29116\n",
      "size: 2557\n",
      "file: g\n",
      "sizes[path]: 23384343\n",
      "size: 2557\n",
      "file: g\n",
      "sizes[path]: 31673\n",
      "size: 62596\n",
      "file: h.lst\n",
      "sizes[path]: 23446939\n",
      "size: 62596\n",
      "file: h.lst\n",
      "sizes[path]: 94269\n",
      "dest: e\n",
      "path: /_a_e\n",
      "stack: ['/', '/_a', '/_a_e']\n",
      "size: 584\n",
      "file: i\n",
      "sizes[path]: 23447523\n",
      "size: 584\n",
      "file: i\n",
      "sizes[path]: 94853\n",
      "size: 584\n",
      "file: i\n",
      "sizes[path]: 584\n",
      "dest: ..\n",
      "stack pop: /_a_e\n",
      "dest: ..\n",
      "stack pop: /\n"
     ]
    },
    {
     "ename": "IndexError",
     "evalue": "pop from empty list",
     "output_type": "error",
     "traceback": [
      "\u001b[0;31m---------------------------------------------------------------------------\u001b[0m",
      "\u001b[0;31mIndexError\u001b[0m                                Traceback (most recent call last)",
      "Cell \u001b[0;32mIn[33], line 12\u001b[0m\n\u001b[1;32m     10\u001b[0m \u001b[38;5;28;01mif\u001b[39;00m dest \u001b[38;5;241m==\u001b[39m \u001b[38;5;124m\"\u001b[39m\u001b[38;5;124m..\u001b[39m\u001b[38;5;124m\"\u001b[39m:\n\u001b[1;32m     11\u001b[0m     \u001b[38;5;28mprint\u001b[39m(\u001b[38;5;124mf\u001b[39m\u001b[38;5;124m'\u001b[39m\u001b[38;5;124mstack pop: \u001b[39m\u001b[38;5;132;01m{\u001b[39;00mstack\u001b[38;5;241m.\u001b[39mpop()\u001b[38;5;132;01m}\u001b[39;00m\u001b[38;5;124m'\u001b[39m)\n\u001b[0;32m---> 12\u001b[0m     stack\u001b[38;5;241m.\u001b[39mpop()\n\u001b[1;32m     13\u001b[0m \u001b[38;5;28;01melse\u001b[39;00m:\n\u001b[1;32m     14\u001b[0m     path \u001b[38;5;241m=\u001b[39m \u001b[38;5;124mf\u001b[39m\u001b[38;5;124m\"\u001b[39m\u001b[38;5;132;01m{\u001b[39;00mstack[\u001b[38;5;241m-\u001b[39m\u001b[38;5;241m1\u001b[39m]\u001b[38;5;132;01m}\u001b[39;00m\u001b[38;5;124m_\u001b[39m\u001b[38;5;132;01m{\u001b[39;00mdest\u001b[38;5;132;01m}\u001b[39;00m\u001b[38;5;124m\"\u001b[39m \u001b[38;5;28;01mif\u001b[39;00m stack \u001b[38;5;28;01melse\u001b[39;00m dest\n",
      "\u001b[0;31mIndexError\u001b[0m: pop from empty list"
     ]
    }
   ],
   "source": [
    "sizes = defaultdict(int)\n",
    "stack = []\n",
    "\n",
    "for c in commands:\n",
    "    if c.startswith(\"$ ls\") or c.startswith(\"dir\"):\n",
    "        continue\n",
    "    if c.startswith(\"$ cd\"):\n",
    "        dest = c.split()[2]\n",
    "        print(f'dest: {dest}')\n",
    "        if dest == \"..\":\n",
    "            print(f'stack pop: {stack.pop()}')\n",
    "        else:\n",
    "            path = f\"{stack[-1]}_{dest}\" if stack else dest\n",
    "            print(f'path: {path}')\n",
    "            stack.append(path)\n",
    "            print(f'stack: {stack}')\n",
    "    else:\n",
    "        size, file = c.split()\n",
    "        for path in stack:\n",
    "            sizes[path] += int(size)\n",
    "            print(f'size: {size}')\n",
    "            print(f'file: {file}')\n",
    "            print(f'sizes[path]: {sizes[path]}')"
   ]
  },
  {
   "cell_type": "code",
   "execution_count": null,
   "id": "356f1a20",
   "metadata": {},
   "outputs": [],
   "source": [
    "needed_size = 30000000 - (70000000 - sizes[\"/\"])\n",
    "for size in sorted(sizes.values()):\n",
    "    if size > needed_size:\n",
    "        break\n",
    "\n",
    "print(sum(n for n in sizes.values() if n <= 100000)) # task 1\n",
    "print(size) # task 2"
   ]
  },
  {
   "cell_type": "markdown",
   "id": "debc05c2",
   "metadata": {},
   "source": [
    "### PART 2"
   ]
  },
  {
   "cell_type": "code",
   "execution_count": null,
   "id": "4c2570dc",
   "metadata": {},
   "outputs": [],
   "source": []
  },
  {
   "cell_type": "code",
   "execution_count": null,
   "id": "f76802d6",
   "metadata": {},
   "outputs": [],
   "source": []
  }
 ],
 "metadata": {
  "kernelspec": {
   "display_name": "aoc",
   "language": "python",
   "name": "aoc"
  },
  "language_info": {
   "codemirror_mode": {
    "name": "ipython",
    "version": 3
   },
   "file_extension": ".py",
   "mimetype": "text/x-python",
   "name": "python",
   "nbconvert_exporter": "python",
   "pygments_lexer": "ipython3",
   "version": "3.11.3"
  }
 },
 "nbformat": 4,
 "nbformat_minor": 5
}
