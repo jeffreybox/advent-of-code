{
 "cells": [
  {
   "cell_type": "markdown",
   "id": "0f2d4600",
   "metadata": {},
   "source": [
    "# AOC 2022: Day 1 - Calorie Counting"
   ]
  },
  {
   "cell_type": "code",
   "execution_count": 1,
   "id": "58500d25",
   "metadata": {},
   "outputs": [],
   "source": [
    "# dependencies"
   ]
  },
  {
   "cell_type": "markdown",
   "id": "238ae98e",
   "metadata": {},
   "source": [
    "### DATA"
   ]
  },
  {
   "cell_type": "code",
   "execution_count": 2,
   "id": "f8587322",
   "metadata": {},
   "outputs": [],
   "source": [
    "path = 'data/aoc2022day1.txt'"
   ]
  },
  {
   "cell_type": "code",
   "execution_count": 3,
   "id": "6157c4dd",
   "metadata": {},
   "outputs": [
    {
     "name": "stdout",
     "output_type": "stream",
     "text": [
      "length = 2255\n",
      "test output... ['4035', '10596', '17891', '5278', '', '11293', '8478', '10874', '10582', '10756']\n"
     ]
    }
   ],
   "source": [
    "with open(path) as f:\n",
    "    ls = [line.rstrip() for line in f]\n",
    "\n",
    "print(f'length = {len(ls)}')\n",
    "print(f'test output... {ls[:10]}')"
   ]
  },
  {
   "cell_type": "code",
   "execution_count": 4,
   "id": "3b6b5ae3",
   "metadata": {},
   "outputs": [
    {
     "name": "stdout",
     "output_type": "stream",
     "text": [
      "number of elves: 250\n",
      "part of the list of lists:\n",
      "[[4035, 10596, 17891, 5278], [11293, 8478, 10874, 10582, 10756, 6649], [9707, 15243, 13494], [18006, 15104, 9091], [1177, 5310, 4579, 2550, 3865, 4871, 3455, 3129, 2853, 2521, 3656, 4203, 5381, 1300, 1054]]\n"
     ]
    }
   ],
   "source": [
    "elfls = []\n",
    "templs = []\n",
    "elfcounter = 0\n",
    "\n",
    "for d in ls:\n",
    "    if d == '': \n",
    "        elfcounter += 1\n",
    "        elfls.append(templs)\n",
    "        templs = []\n",
    "        continue\n",
    "    else:\n",
    "        templs.append(int(d))\n",
    "\n",
    "elfls.append(templs)\n",
    "print(f'number of elves: {elfcounter}')\n",
    "print('part of the list of lists:')\n",
    "print(elfls[:5])"
   ]
  },
  {
   "cell_type": "markdown",
   "id": "666b41e6",
   "metadata": {},
   "source": [
    "### PART 1"
   ]
  },
  {
   "cell_type": "code",
   "execution_count": 6,
   "id": "ce727966",
   "metadata": {},
   "outputs": [],
   "source": [
    "elfcalories = []\n",
    "\n",
    "for elf in elfls:\n",
    "    elfcalories.append(sum(elf))"
   ]
  },
  {
   "cell_type": "code",
   "execution_count": 7,
   "id": "ec98057b",
   "metadata": {},
   "outputs": [
    {
     "data": {
      "text/plain": [
       "71934"
      ]
     },
     "execution_count": 7,
     "metadata": {},
     "output_type": "execute_result"
    }
   ],
   "source": [
    "max(elfcalories)"
   ]
  },
  {
   "cell_type": "markdown",
   "id": "4ec36ad6",
   "metadata": {},
   "source": [
    "### PART 2"
   ]
  },
  {
   "cell_type": "code",
   "execution_count": null,
   "id": "77632749",
   "metadata": {},
   "outputs": [],
   "source": []
  }
 ],
 "metadata": {
  "kernelspec": {
   "display_name": "Python 3 (ipykernel)",
   "language": "python",
   "name": "python3"
  },
  "language_info": {
   "codemirror_mode": {
    "name": "ipython",
    "version": 3
   },
   "file_extension": ".py",
   "mimetype": "text/x-python",
   "name": "python",
   "nbconvert_exporter": "python",
   "pygments_lexer": "ipython3",
   "version": "3.10.5"
  }
 },
 "nbformat": 4,
 "nbformat_minor": 5
}
