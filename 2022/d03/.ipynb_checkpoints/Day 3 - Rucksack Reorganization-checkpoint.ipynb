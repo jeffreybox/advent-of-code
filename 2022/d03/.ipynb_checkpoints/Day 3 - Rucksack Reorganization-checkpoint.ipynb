{
 "cells": [
  {
   "cell_type": "markdown",
   "id": "fa9bd01a",
   "metadata": {},
   "source": [
    "# AOC 2022: Day 3 - Rucksack Reorganization"
   ]
  },
  {
   "cell_type": "code",
   "execution_count": 1,
   "id": "e40178ae",
   "metadata": {},
   "outputs": [],
   "source": [
    "#dependencies\n",
    "\n",
    "import string\n",
    "import numpy as np"
   ]
  },
  {
   "cell_type": "markdown",
   "id": "09e3528c",
   "metadata": {},
   "source": [
    "### DATA"
   ]
  },
  {
   "cell_type": "code",
   "execution_count": 2,
   "id": "2fe8f657",
   "metadata": {},
   "outputs": [],
   "source": [
    "path = 'data/aoc2022day3.txt'"
   ]
  },
  {
   "cell_type": "code",
   "execution_count": 3,
   "id": "acbbc893",
   "metadata": {},
   "outputs": [
    {
     "name": "stdout",
     "output_type": "stream",
     "text": [
      "length = 300\n",
      "test output... ['QLFdFCdlLcVqdvFLnFLSSShZwptfHHhfZZZpSwfmHp', 'rTJRjjbJTgzDJjdsRsfwtfNwtfmZpZNhmmzt', 'bMdJjsjglnVMFCCc']\n"
     ]
    }
   ],
   "source": [
    "with open(path) as f:\n",
    "    mastersack = [line.rstrip() for line in f]\n",
    "\n",
    "print(f'length = {len(mastersack)}')\n",
    "print(f'test output... {mastersack[:3]}')"
   ]
  },
  {
   "cell_type": "markdown",
   "id": "3d9503a6",
   "metadata": {},
   "source": [
    "### PART 1"
   ]
  },
  {
   "cell_type": "code",
   "execution_count": 4,
   "id": "dd184bb2",
   "metadata": {},
   "outputs": [],
   "source": [
    "# create a way to split the sacks\n",
    "\n",
    "def rucksacker(sack):\n",
    "    l = int(len(sack))\n",
    "    h = int(l*0.5)\n",
    "    firstcomp = sack[0:h]\n",
    "    secondcomp = sack[h:l]\n",
    "    sameitem = set(firstcomp).intersection(secondcomp)\n",
    "    return sameitem"
   ]
  },
  {
   "cell_type": "code",
   "execution_count": 6,
   "id": "b6f7a485",
   "metadata": {},
   "outputs": [
    {
     "name": "stdout",
     "output_type": "stream",
     "text": [
      "['S', 'z', 'M', 't', 'D', 'F', 'V', 'd', 'l', 'd']\n"
     ]
    }
   ],
   "source": [
    "# iterate over our data\n",
    "\n",
    "sacklist = []\n",
    "\n",
    "for mysack in mastersack:\n",
    "    myitem = rucksacker(mysack)\n",
    "    for setitem in myitem:\n",
    "        sacklist.append(setitem)\n",
    "        \n",
    "#print(sacklist[0:10])"
   ]
  },
  {
   "cell_type": "code",
   "execution_count": 8,
   "id": "c3d8e040",
   "metadata": {},
   "outputs": [],
   "source": [
    "# create the alphabet prioritization\n",
    "\n",
    "alpha_low = list(string.ascii_lowercase)\n",
    "alpha_cap = list(string.ascii_uppercase)\n",
    "alpha_keys = alpha_low+alpha_cap\n",
    "alpha_values = list(np.arange(1, len(alpha_keys)+1))"
   ]
  },
  {
   "cell_type": "code",
   "execution_count": 9,
   "id": "c5b31169",
   "metadata": {},
   "outputs": [],
   "source": [
    "# create a dictionary\n",
    "\n",
    "alphadict = dict(zip(alpha_keys, alpha_values))\n",
    "\n",
    "#print(alphadict)"
   ]
  },
  {
   "cell_type": "code",
   "execution_count": 21,
   "id": "96eea9ec",
   "metadata": {},
   "outputs": [
    {
     "name": "stdout",
     "output_type": "stream",
     "text": [
      "7917\n"
     ]
    }
   ],
   "source": [
    "# sum the priority\n",
    "\n",
    "priority = 0\n",
    "\n",
    "for key in sacklist:\n",
    "    priority = priority + alphadict[key]\n",
    "    \n",
    "print(priority)"
   ]
  },
  {
   "cell_type": "markdown",
   "id": "0e0e8f52",
   "metadata": {},
   "source": [
    "### PART 2"
   ]
  },
  {
   "cell_type": "code",
   "execution_count": 24,
   "id": "0a7d6c28",
   "metadata": {},
   "outputs": [],
   "source": [
    "# create a way to create the groups of 3\n",
    "\n",
    "grouplist = []\n",
    "\n",
    "for r in np.arange(0,len(mastersack),3):\n",
    "    samegroup = set(mastersack[r]) & set(mastersack[r+1]) & set(mastersack[r+2])\n",
    "    for setitem in samegroup:\n",
    "        grouplist.append(setitem)"
   ]
  },
  {
   "cell_type": "code",
   "execution_count": 26,
   "id": "f5ec4ce2",
   "metadata": {},
   "outputs": [
    {
     "name": "stdout",
     "output_type": "stream",
     "text": [
      "2585\n"
     ]
    }
   ],
   "source": [
    "# sum the group priority\n",
    "\n",
    "grouppriority = 0\n",
    "\n",
    "for key in grouplist:\n",
    "    grouppriority = grouppriority + alphadict[key]\n",
    "    \n",
    "print(grouppriority)"
   ]
  },
  {
   "cell_type": "code",
   "execution_count": null,
   "id": "135dddc9",
   "metadata": {},
   "outputs": [],
   "source": []
  }
 ],
 "metadata": {
  "kernelspec": {
   "display_name": "aoc",
   "language": "python",
   "name": "aoc"
  },
  "language_info": {
   "codemirror_mode": {
    "name": "ipython",
    "version": 3
   },
   "file_extension": ".py",
   "mimetype": "text/x-python",
   "name": "python",
   "nbconvert_exporter": "python",
   "pygments_lexer": "ipython3",
   "version": "3.11.3"
  }
 },
 "nbformat": 4,
 "nbformat_minor": 5
}
