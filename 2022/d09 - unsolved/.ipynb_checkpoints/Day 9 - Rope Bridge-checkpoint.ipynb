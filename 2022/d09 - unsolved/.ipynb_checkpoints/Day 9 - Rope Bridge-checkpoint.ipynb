{
 "cells": [
  {
   "cell_type": "markdown",
   "id": "44f913a6",
   "metadata": {},
   "source": [
    "# AOC 2022: Day X - "
   ]
  },
  {
   "cell_type": "code",
   "execution_count": 1,
   "id": "166ad0fd",
   "metadata": {},
   "outputs": [],
   "source": [
    "# dependencies"
   ]
  },
  {
   "cell_type": "markdown",
   "id": "e641e912",
   "metadata": {},
   "source": [
    "### DATA"
   ]
  },
  {
   "cell_type": "code",
   "execution_count": null,
   "id": "9f62e170",
   "metadata": {},
   "outputs": [],
   "source": [
    "path = 'data/aoc2022day5.txt'"
   ]
  },
  {
   "cell_type": "code",
   "execution_count": null,
   "id": "8da5120d",
   "metadata": {},
   "outputs": [],
   "source": [
    "with open(path) as f:\n",
    "    assignments = [line.rstrip() for line in f]\n",
    "\n",
    "print(f'length = {len(assignments)}')\n",
    "print(f'test output... {assignments[:3]}')"
   ]
  },
  {
   "cell_type": "markdown",
   "id": "dfd21887",
   "metadata": {},
   "source": [
    "### PART 1"
   ]
  },
  {
   "cell_type": "code",
   "execution_count": null,
   "id": "bc15cf0c",
   "metadata": {},
   "outputs": [],
   "source": []
  },
  {
   "cell_type": "markdown",
   "id": "debc05c2",
   "metadata": {},
   "source": [
    "### PART 2"
   ]
  },
  {
   "cell_type": "code",
   "execution_count": null,
   "id": "f76802d6",
   "metadata": {},
   "outputs": [],
   "source": []
  }
 ],
 "metadata": {
  "kernelspec": {
   "display_name": "aoc",
   "language": "python",
   "name": "aoc"
  },
  "language_info": {
   "codemirror_mode": {
    "name": "ipython",
    "version": 3
   },
   "file_extension": ".py",
   "mimetype": "text/x-python",
   "name": "python",
   "nbconvert_exporter": "python",
   "pygments_lexer": "ipython3",
   "version": "3.11.3"
  }
 },
 "nbformat": 4,
 "nbformat_minor": 5
}
